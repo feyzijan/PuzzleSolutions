{
 "cells": [
  {
   "cell_type": "markdown",
   "id": "316c4502",
   "metadata": {},
   "source": [
    "Imports"
   ]
  },
  {
   "cell_type": "code",
   "execution_count": 1,
   "id": "f344f837",
   "metadata": {
    "ExecuteTime": {
     "end_time": "2022-03-21T07:31:04.654190Z",
     "start_time": "2022-03-21T07:31:04.085155Z"
    }
   },
   "outputs": [],
   "source": [
    "import pandas as pd\n",
    "import numpy as np"
   ]
  },
  {
   "cell_type": "markdown",
   "id": "f9dbac49",
   "metadata": {},
   "source": [
    "#### Read data and drop columns, fix names"
   ]
  },
  {
   "cell_type": "code",
   "execution_count": 2,
   "id": "057c7935",
   "metadata": {
    "ExecuteTime": {
     "end_time": "2022-03-21T07:31:04.785978Z",
     "start_time": "2022-03-21T07:31:04.746046Z"
    }
   },
   "outputs": [
    {
     "data": {
      "text/html": [
       "<div>\n",
       "<style scoped>\n",
       "    .dataframe tbody tr th:only-of-type {\n",
       "        vertical-align: middle;\n",
       "    }\n",
       "\n",
       "    .dataframe tbody tr th {\n",
       "        vertical-align: top;\n",
       "    }\n",
       "\n",
       "    .dataframe thead th {\n",
       "        text-align: right;\n",
       "    }\n",
       "</style>\n",
       "<table border=\"1\" class=\"dataframe\">\n",
       "  <thead>\n",
       "    <tr style=\"text-align: right;\">\n",
       "      <th></th>\n",
       "      <th>market</th>\n",
       "      <th>actor</th>\n",
       "      <th>price</th>\n",
       "      <th>round</th>\n",
       "      <th>type</th>\n",
       "    </tr>\n",
       "  </thead>\n",
       "  <tbody>\n",
       "    <tr>\n",
       "      <th>0</th>\n",
       "      <td>spades</td>\n",
       "      <td>Feyzi</td>\n",
       "      <td>55</td>\n",
       "      <td>32</td>\n",
       "      <td>buy</td>\n",
       "    </tr>\n",
       "    <tr>\n",
       "      <th>1</th>\n",
       "      <td>spades</td>\n",
       "      <td>Feyzi</td>\n",
       "      <td>55</td>\n",
       "      <td>32</td>\n",
       "      <td>buy</td>\n",
       "    </tr>\n",
       "    <tr>\n",
       "      <th>2</th>\n",
       "      <td>spades</td>\n",
       "      <td>Feyzi</td>\n",
       "      <td>55</td>\n",
       "      <td>32</td>\n",
       "      <td>buy</td>\n",
       "    </tr>\n",
       "    <tr>\n",
       "      <th>3</th>\n",
       "      <td>diamonds</td>\n",
       "      <td>Doruk</td>\n",
       "      <td>34</td>\n",
       "      <td>32</td>\n",
       "      <td>sell</td>\n",
       "    </tr>\n",
       "    <tr>\n",
       "      <th>4</th>\n",
       "      <td>diamonds</td>\n",
       "      <td>Doruk</td>\n",
       "      <td>34</td>\n",
       "      <td>32</td>\n",
       "      <td>sell</td>\n",
       "    </tr>\n",
       "    <tr>\n",
       "      <th>...</th>\n",
       "      <td>...</td>\n",
       "      <td>...</td>\n",
       "      <td>...</td>\n",
       "      <td>...</td>\n",
       "      <td>...</td>\n",
       "    </tr>\n",
       "    <tr>\n",
       "      <th>1582</th>\n",
       "      <td>clubs</td>\n",
       "      <td>Doruk</td>\n",
       "      <td>40</td>\n",
       "      <td>1</td>\n",
       "      <td>sell</td>\n",
       "    </tr>\n",
       "    <tr>\n",
       "      <th>1583</th>\n",
       "      <td>spades</td>\n",
       "      <td>Doruk</td>\n",
       "      <td>40</td>\n",
       "      <td>1</td>\n",
       "      <td>sell</td>\n",
       "    </tr>\n",
       "    <tr>\n",
       "      <th>1584</th>\n",
       "      <td>hearts</td>\n",
       "      <td>Doruk</td>\n",
       "      <td>40</td>\n",
       "      <td>1</td>\n",
       "      <td>sell</td>\n",
       "    </tr>\n",
       "    <tr>\n",
       "      <th>1585</th>\n",
       "      <td>diamonds</td>\n",
       "      <td>Doruk</td>\n",
       "      <td>40</td>\n",
       "      <td>1</td>\n",
       "      <td>sell</td>\n",
       "    </tr>\n",
       "    <tr>\n",
       "      <th>1586</th>\n",
       "      <td>clubs</td>\n",
       "      <td>Doruk</td>\n",
       "      <td>40</td>\n",
       "      <td>1</td>\n",
       "      <td>sell</td>\n",
       "    </tr>\n",
       "  </tbody>\n",
       "</table>\n",
       "<p>1587 rows × 5 columns</p>\n",
       "</div>"
      ],
      "text/plain": [
       "        market  actor  price  round  type\n",
       "0       spades  Feyzi     55     32   buy\n",
       "1       spades  Feyzi     55     32   buy\n",
       "2       spades  Feyzi     55     32   buy\n",
       "3     diamonds  Doruk     34     32  sell\n",
       "4     diamonds  Doruk     34     32  sell\n",
       "...        ...    ...    ...    ...   ...\n",
       "1582     clubs  Doruk     40      1  sell\n",
       "1583    spades  Doruk     40      1  sell\n",
       "1584    hearts  Doruk     40      1  sell\n",
       "1585  diamonds  Doruk     40      1  sell\n",
       "1586     clubs  Doruk     40      1  sell\n",
       "\n",
       "[1587 rows x 5 columns]"
      ]
     },
     "execution_count": 2,
     "metadata": {},
     "output_type": "execute_result"
    }
   ],
   "source": [
    "df = pd.read_csv(\"gamesLog.csv\")\n",
    "df.drop(labels=[\"game_id\",\"actor_id\",\"date\",\"time\"],axis=1,inplace=True)\n",
    "a = df.loc[:,\"actor\"] == \"feyzi\"\n",
    "df.loc[a,\"actor\"] = \"Feyzi\"\n",
    "a = df.loc[:,\"actor\"] == \"5c651592-2d37-4622-ab5b-0ff4ca29f2f8\"\n",
    "df.loc[a,\"actor\"] = \"Doruk\"\n",
    "df"
   ]
  },
  {
   "cell_type": "markdown",
   "id": "484e6d2f",
   "metadata": {
    "ExecuteTime": {
     "end_time": "2022-03-16T23:31:36.429616Z",
     "start_time": "2022-03-16T23:31:36.421628Z"
    }
   },
   "source": [
    "# Summary stats"
   ]
  },
  {
   "cell_type": "markdown",
   "id": "0303c518",
   "metadata": {},
   "source": [
    "Some useful stats"
   ]
  },
  {
   "cell_type": "code",
   "execution_count": 3,
   "id": "939f1b5a",
   "metadata": {
    "ExecuteTime": {
     "end_time": "2022-03-21T07:31:11.168113Z",
     "start_time": "2022-03-21T07:31:11.152265Z"
    }
   },
   "outputs": [
    {
     "data": {
      "text/html": [
       "<div>\n",
       "<style scoped>\n",
       "    .dataframe tbody tr th:only-of-type {\n",
       "        vertical-align: middle;\n",
       "    }\n",
       "\n",
       "    .dataframe tbody tr th {\n",
       "        vertical-align: top;\n",
       "    }\n",
       "\n",
       "    .dataframe thead th {\n",
       "        text-align: right;\n",
       "    }\n",
       "</style>\n",
       "<table border=\"1\" class=\"dataframe\">\n",
       "  <thead>\n",
       "    <tr style=\"text-align: right;\">\n",
       "      <th></th>\n",
       "      <th>market</th>\n",
       "      <th>actor</th>\n",
       "      <th>type</th>\n",
       "    </tr>\n",
       "  </thead>\n",
       "  <tbody>\n",
       "    <tr>\n",
       "      <th>Ben</th>\n",
       "      <td>NaN</td>\n",
       "      <td>162.0</td>\n",
       "      <td>NaN</td>\n",
       "    </tr>\n",
       "    <tr>\n",
       "      <th>Doruk</th>\n",
       "      <td>NaN</td>\n",
       "      <td>608.0</td>\n",
       "      <td>NaN</td>\n",
       "    </tr>\n",
       "    <tr>\n",
       "      <th>Feyzi</th>\n",
       "      <td>NaN</td>\n",
       "      <td>444.0</td>\n",
       "      <td>NaN</td>\n",
       "    </tr>\n",
       "    <tr>\n",
       "      <th>Isolde</th>\n",
       "      <td>NaN</td>\n",
       "      <td>199.0</td>\n",
       "      <td>NaN</td>\n",
       "    </tr>\n",
       "    <tr>\n",
       "      <th>Luke</th>\n",
       "      <td>NaN</td>\n",
       "      <td>174.0</td>\n",
       "      <td>NaN</td>\n",
       "    </tr>\n",
       "    <tr>\n",
       "      <th>buy</th>\n",
       "      <td>NaN</td>\n",
       "      <td>NaN</td>\n",
       "      <td>670.0</td>\n",
       "    </tr>\n",
       "    <tr>\n",
       "      <th>clubs</th>\n",
       "      <td>485.0</td>\n",
       "      <td>NaN</td>\n",
       "      <td>NaN</td>\n",
       "    </tr>\n",
       "    <tr>\n",
       "      <th>diamonds</th>\n",
       "      <td>575.0</td>\n",
       "      <td>NaN</td>\n",
       "      <td>NaN</td>\n",
       "    </tr>\n",
       "    <tr>\n",
       "      <th>hearts</th>\n",
       "      <td>283.0</td>\n",
       "      <td>NaN</td>\n",
       "      <td>NaN</td>\n",
       "    </tr>\n",
       "    <tr>\n",
       "      <th>sell</th>\n",
       "      <td>NaN</td>\n",
       "      <td>NaN</td>\n",
       "      <td>917.0</td>\n",
       "    </tr>\n",
       "    <tr>\n",
       "      <th>spades</th>\n",
       "      <td>244.0</td>\n",
       "      <td>NaN</td>\n",
       "      <td>NaN</td>\n",
       "    </tr>\n",
       "  </tbody>\n",
       "</table>\n",
       "</div>"
      ],
      "text/plain": [
       "          market  actor   type\n",
       "Ben          NaN  162.0    NaN\n",
       "Doruk        NaN  608.0    NaN\n",
       "Feyzi        NaN  444.0    NaN\n",
       "Isolde       NaN  199.0    NaN\n",
       "Luke         NaN  174.0    NaN\n",
       "buy          NaN    NaN  670.0\n",
       "clubs      485.0    NaN    NaN\n",
       "diamonds   575.0    NaN    NaN\n",
       "hearts     283.0    NaN    NaN\n",
       "sell         NaN    NaN  917.0\n",
       "spades     244.0    NaN    NaN"
      ]
     },
     "execution_count": 3,
     "metadata": {},
     "output_type": "execute_result"
    }
   ],
   "source": [
    "summary = df[[\"market\",\"actor\",\"type\"]].apply(pd.Series.value_counts).copy()\n",
    "summary"
   ]
  },
  {
   "cell_type": "markdown",
   "id": "90dfbacf",
   "metadata": {},
   "source": [
    "#### Calculate own R32 loss"
   ]
  },
  {
   "cell_type": "code",
   "execution_count": 149,
   "id": "f6d67d2c",
   "metadata": {
    "ExecuteTime": {
     "end_time": "2022-03-17T10:51:47.604323Z",
     "start_time": "2022-03-17T10:51:47.588339Z"
    }
   },
   "outputs": [
    {
     "name": "stdout",
     "output_type": "stream",
     "text": [
      "27.76 $ loss\n",
      "104  trades\n"
     ]
    }
   ],
   "source": [
    "round_32 = df[(df[\"market\"]==\"clubs\") & (df[\"round\"] == 32)].copy()\n",
    "print(round_32.price.sum() /100, \"$ loss\")\n",
    "print(round_32.shape[0], \" trades\")"
   ]
  },
  {
   "cell_type": "code",
   "execution_count": null,
   "id": "63c25db9",
   "metadata": {},
   "outputs": [],
   "source": []
  },
  {
   "cell_type": "code",
   "execution_count": null,
   "id": "72e7ac3e",
   "metadata": {},
   "outputs": [],
   "source": []
  },
  {
   "cell_type": "markdown",
   "id": "cd684fcc",
   "metadata": {},
   "source": [
    "### Contract balances for each player"
   ]
  },
  {
   "cell_type": "markdown",
   "id": "19d19076",
   "metadata": {},
   "source": [
    "DFs for all players"
   ]
  },
  {
   "cell_type": "code",
   "execution_count": 16,
   "id": "05c8c008",
   "metadata": {
    "ExecuteTime": {
     "end_time": "2022-03-21T07:36:58.631523Z",
     "start_time": "2022-03-21T07:36:58.610422Z"
    }
   },
   "outputs": [],
   "source": [
    "Isolde = df[[\"market\",\"actor\",\"type\",\"price\"]][df.actor==\"Isolde\"]\n",
    "Luke   = df[[\"market\",\"actor\",\"type\",\"price\"]][df.actor==\"Luke\"]\n",
    "Feyzi  = df[[\"market\",\"actor\",\"type\",\"price\"]][df.actor==\"Feyzi\"]\n",
    "Ben    = df[[\"market\",\"actor\",\"type\",\"price\"]][df.actor==\"Ben\"]\n",
    "Doruk  = df[[\"market\",\"actor\",\"type\",\"price\"]][df.actor==\"Doruk\"]\n",
    "\n",
    "players = [Isolde, Luke, Feyzi, Ben, Doruk]"
   ]
  },
  {
   "cell_type": "code",
   "execution_count": 17,
   "id": "563a74ab",
   "metadata": {
    "ExecuteTime": {
     "end_time": "2022-03-21T07:36:58.868620Z",
     "start_time": "2022-03-21T07:36:58.855623Z"
    }
   },
   "outputs": [
    {
     "data": {
      "text/html": [
       "<div>\n",
       "<style scoped>\n",
       "    .dataframe tbody tr th:only-of-type {\n",
       "        vertical-align: middle;\n",
       "    }\n",
       "\n",
       "    .dataframe tbody tr th {\n",
       "        vertical-align: top;\n",
       "    }\n",
       "\n",
       "    .dataframe thead th {\n",
       "        text-align: right;\n",
       "    }\n",
       "</style>\n",
       "<table border=\"1\" class=\"dataframe\">\n",
       "  <thead>\n",
       "    <tr style=\"text-align: right;\">\n",
       "      <th></th>\n",
       "      <th>hearts</th>\n",
       "      <th>diamonds</th>\n",
       "      <th>clubs</th>\n",
       "      <th>spades</th>\n",
       "    </tr>\n",
       "    <tr>\n",
       "      <th>Player</th>\n",
       "      <th></th>\n",
       "      <th></th>\n",
       "      <th></th>\n",
       "      <th></th>\n",
       "    </tr>\n",
       "  </thead>\n",
       "  <tbody>\n",
       "    <tr>\n",
       "      <th>Isolde</th>\n",
       "      <td>0</td>\n",
       "      <td>0</td>\n",
       "      <td>0</td>\n",
       "      <td>0</td>\n",
       "    </tr>\n",
       "    <tr>\n",
       "      <th>Luke</th>\n",
       "      <td>0</td>\n",
       "      <td>0</td>\n",
       "      <td>0</td>\n",
       "      <td>0</td>\n",
       "    </tr>\n",
       "    <tr>\n",
       "      <th>Feyzi</th>\n",
       "      <td>0</td>\n",
       "      <td>0</td>\n",
       "      <td>0</td>\n",
       "      <td>0</td>\n",
       "    </tr>\n",
       "    <tr>\n",
       "      <th>Ben</th>\n",
       "      <td>0</td>\n",
       "      <td>0</td>\n",
       "      <td>0</td>\n",
       "      <td>0</td>\n",
       "    </tr>\n",
       "    <tr>\n",
       "      <th>Doruk</th>\n",
       "      <td>0</td>\n",
       "      <td>0</td>\n",
       "      <td>0</td>\n",
       "      <td>0</td>\n",
       "    </tr>\n",
       "  </tbody>\n",
       "</table>\n",
       "</div>"
      ],
      "text/plain": [
       "        hearts  diamonds  clubs  spades\n",
       "Player                                 \n",
       "Isolde       0         0      0       0\n",
       "Luke         0         0      0       0\n",
       "Feyzi        0         0      0       0\n",
       "Ben          0         0      0       0\n",
       "Doruk        0         0      0       0"
      ]
     },
     "execution_count": 17,
     "metadata": {},
     "output_type": "execute_result"
    }
   ],
   "source": [
    "contracts_dict = {\n",
    "    \"Player\": [\"Isolde\",\"Luke\",\"Feyzi\",\"Ben\",\"Doruk\"],\n",
    "    \"hearts\": [0,0,0,0,0],\n",
    "    \"diamonds\":[0,0,0,0,0],\n",
    "    \"clubs\":[0,0,0,0,0],\n",
    "    \"spades\":[0,0,0,0,0],\n",
    "}\n",
    "contracts_df = df.from_dict(contracts_dict)\n",
    "contracts_df.set_index(\"Player\",inplace=True)\n",
    "contracts_df"
   ]
  },
  {
   "cell_type": "code",
   "execution_count": 18,
   "id": "0a926bc4",
   "metadata": {
    "ExecuteTime": {
     "end_time": "2022-03-21T07:36:59.089634Z",
     "start_time": "2022-03-21T07:36:59.053632Z"
    }
   },
   "outputs": [
    {
     "data": {
      "text/html": [
       "<div>\n",
       "<style scoped>\n",
       "    .dataframe tbody tr th:only-of-type {\n",
       "        vertical-align: middle;\n",
       "    }\n",
       "\n",
       "    .dataframe tbody tr th {\n",
       "        vertical-align: top;\n",
       "    }\n",
       "\n",
       "    .dataframe thead th {\n",
       "        text-align: right;\n",
       "    }\n",
       "</style>\n",
       "<table border=\"1\" class=\"dataframe\">\n",
       "  <thead>\n",
       "    <tr style=\"text-align: right;\">\n",
       "      <th></th>\n",
       "      <th>hearts</th>\n",
       "      <th>diamonds</th>\n",
       "      <th>clubs</th>\n",
       "      <th>spades</th>\n",
       "    </tr>\n",
       "    <tr>\n",
       "      <th>Player</th>\n",
       "      <th></th>\n",
       "      <th></th>\n",
       "      <th></th>\n",
       "      <th></th>\n",
       "    </tr>\n",
       "  </thead>\n",
       "  <tbody>\n",
       "    <tr>\n",
       "      <th>Isolde</th>\n",
       "      <td>65</td>\n",
       "      <td>-26</td>\n",
       "      <td>-27</td>\n",
       "      <td>14</td>\n",
       "    </tr>\n",
       "    <tr>\n",
       "      <th>Luke</th>\n",
       "      <td>10</td>\n",
       "      <td>99</td>\n",
       "      <td>15</td>\n",
       "      <td>19</td>\n",
       "    </tr>\n",
       "    <tr>\n",
       "      <th>Feyzi</th>\n",
       "      <td>49</td>\n",
       "      <td>104</td>\n",
       "      <td>177</td>\n",
       "      <td>89</td>\n",
       "    </tr>\n",
       "    <tr>\n",
       "      <th>Ben</th>\n",
       "      <td>2</td>\n",
       "      <td>30</td>\n",
       "      <td>18</td>\n",
       "      <td>-94</td>\n",
       "    </tr>\n",
       "    <tr>\n",
       "      <th>Doruk</th>\n",
       "      <td>-126</td>\n",
       "      <td>-207</td>\n",
       "      <td>-183</td>\n",
       "      <td>-28</td>\n",
       "    </tr>\n",
       "  </tbody>\n",
       "</table>\n",
       "</div>"
      ],
      "text/plain": [
       "        hearts  diamonds  clubs  spades\n",
       "Player                                 \n",
       "Isolde      65       -26    -27      14\n",
       "Luke        10        99     15      19\n",
       "Feyzi       49       104    177      89\n",
       "Ben          2        30     18     -94\n",
       "Doruk     -126      -207   -183     -28"
      ]
     },
     "execution_count": 18,
     "metadata": {},
     "output_type": "execute_result"
    }
   ],
   "source": [
    "def get_net_contract(df,contract):\n",
    "    return df[(df[\"type\"] == \"buy\") & (df[\"market\"] == contract)].shape[0] - df[(df[\"type\"] == \"sell\") & (df[\"market\"] == contract)].shape[0]\n",
    "\n",
    "def calc_contract_balances(df):\n",
    "    contracts= [\"hearts\",\"diamonds\",\"clubs\",\"spades\"]\n",
    "    balances = []\n",
    "    for i in range(len(contracts)):\n",
    "        balances.append(get_net_contract(df,contracts[i]))\n",
    "    return balances\n",
    "\n",
    "contracts= [\"hearts\",\"diamonds\",\"clubs\",\"spades\"]\n",
    "\n",
    "# Populate table\n",
    "contracts_df.loc[\"Isolde\",contracts] = calc_contract_balances(Isolde)\n",
    "contracts_df.loc[\"Luke\",contracts] = calc_contract_balances(Luke)\n",
    "contracts_df.loc[\"Feyzi\",contracts] = calc_contract_balances(Feyzi)\n",
    "contracts_df.loc[\"Ben\",contracts] = calc_contract_balances(Ben)\n",
    "contracts_df.loc[\"Doruk\",contracts] = calc_contract_balances(Doruk)\n",
    "\n",
    "\n",
    "# Add market maker balances\n",
    "contracts_df.loc[\"Isolde\",\"hearts\"] = -contracts_df.hearts.sum()\n",
    "contracts_df.loc[\"Luke\",\"diamonds\"] = -contracts_df.diamonds.sum()\n",
    "contracts_df.loc[\"Feyzi\",\"clubs\"] = -contracts_df.clubs.sum()\n",
    "contracts_df.loc[\"Ben\",\"spades\"] = -contracts_df.spades.sum()\n",
    "\n",
    "contracts_df"
   ]
  },
  {
   "cell_type": "code",
   "execution_count": 28,
   "id": "1901a187",
   "metadata": {
    "ExecuteTime": {
     "end_time": "2022-03-21T07:40:51.652076Z",
     "start_time": "2022-03-21T07:40:51.638037Z"
    }
   },
   "outputs": [
    {
     "data": {
      "text/html": [
       "<style type=\"text/css\">\n",
       "#T_f1539_row0_col0, #T_f1539_row2_col1, #T_f1539_row2_col2, #T_f1539_row2_col3 {\n",
       "  background-color: #2e8b57;\n",
       "  color: #f1f1f1;\n",
       "}\n",
       "#T_f1539_row0_col1 {\n",
       "  background-color: #7db696;\n",
       "  color: #f1f1f1;\n",
       "}\n",
       "#T_f1539_row0_col2 {\n",
       "  background-color: #99c6ac;\n",
       "  color: #000000;\n",
       "}\n",
       "#T_f1539_row0_col3 {\n",
       "  background-color: #7bb594;\n",
       "  color: #f1f1f1;\n",
       "}\n",
       "#T_f1539_row1_col0 {\n",
       "  background-color: #64a982;\n",
       "  color: #f1f1f1;\n",
       "}\n",
       "#T_f1539_row1_col1 {\n",
       "  background-color: #318d59;\n",
       "  color: #f1f1f1;\n",
       "}\n",
       "#T_f1539_row1_col2 {\n",
       "  background-color: #83ba9b;\n",
       "  color: #000000;\n",
       "}\n",
       "#T_f1539_row1_col3 {\n",
       "  background-color: #76b290;\n",
       "  color: #f1f1f1;\n",
       "}\n",
       "#T_f1539_row2_col0 {\n",
       "  background-color: #3e9463;\n",
       "  color: #f1f1f1;\n",
       "}\n",
       "#T_f1539_row3_col0 {\n",
       "  background-color: #6cad88;\n",
       "  color: #f1f1f1;\n",
       "}\n",
       "#T_f1539_row3_col1 {\n",
       "  background-color: #5aa37a;\n",
       "  color: #f1f1f1;\n",
       "}\n",
       "#T_f1539_row3_col2 {\n",
       "  background-color: #82b99a;\n",
       "  color: #000000;\n",
       "}\n",
       "#T_f1539_row3_col3, #T_f1539_row4_col0, #T_f1539_row4_col1, #T_f1539_row4_col2 {\n",
       "  background-color: #ebf3ed;\n",
       "  color: #000000;\n",
       "}\n",
       "#T_f1539_row4_col3 {\n",
       "  background-color: #a7cdb7;\n",
       "  color: #000000;\n",
       "}\n",
       "</style>\n",
       "<table id=\"T_f1539\">\n",
       "  <thead>\n",
       "    <tr>\n",
       "      <th class=\"blank level0\" >&nbsp;</th>\n",
       "      <th id=\"T_f1539_level0_col0\" class=\"col_heading level0 col0\" >hearts</th>\n",
       "      <th id=\"T_f1539_level0_col1\" class=\"col_heading level0 col1\" >diamonds</th>\n",
       "      <th id=\"T_f1539_level0_col2\" class=\"col_heading level0 col2\" >clubs</th>\n",
       "      <th id=\"T_f1539_level0_col3\" class=\"col_heading level0 col3\" >spades</th>\n",
       "    </tr>\n",
       "    <tr>\n",
       "      <th class=\"index_name level0\" >Player</th>\n",
       "      <th class=\"blank col0\" >&nbsp;</th>\n",
       "      <th class=\"blank col1\" >&nbsp;</th>\n",
       "      <th class=\"blank col2\" >&nbsp;</th>\n",
       "      <th class=\"blank col3\" >&nbsp;</th>\n",
       "    </tr>\n",
       "  </thead>\n",
       "  <tbody>\n",
       "    <tr>\n",
       "      <th id=\"T_f1539_level0_row0\" class=\"row_heading level0 row0\" >Isolde</th>\n",
       "      <td id=\"T_f1539_row0_col0\" class=\"data row0 col0\" >65</td>\n",
       "      <td id=\"T_f1539_row0_col1\" class=\"data row0 col1\" >-26</td>\n",
       "      <td id=\"T_f1539_row0_col2\" class=\"data row0 col2\" >-27</td>\n",
       "      <td id=\"T_f1539_row0_col3\" class=\"data row0 col3\" >14</td>\n",
       "    </tr>\n",
       "    <tr>\n",
       "      <th id=\"T_f1539_level0_row1\" class=\"row_heading level0 row1\" >Luke</th>\n",
       "      <td id=\"T_f1539_row1_col0\" class=\"data row1 col0\" >10</td>\n",
       "      <td id=\"T_f1539_row1_col1\" class=\"data row1 col1\" >99</td>\n",
       "      <td id=\"T_f1539_row1_col2\" class=\"data row1 col2\" >15</td>\n",
       "      <td id=\"T_f1539_row1_col3\" class=\"data row1 col3\" >19</td>\n",
       "    </tr>\n",
       "    <tr>\n",
       "      <th id=\"T_f1539_level0_row2\" class=\"row_heading level0 row2\" >Feyzi</th>\n",
       "      <td id=\"T_f1539_row2_col0\" class=\"data row2 col0\" >49</td>\n",
       "      <td id=\"T_f1539_row2_col1\" class=\"data row2 col1\" >104</td>\n",
       "      <td id=\"T_f1539_row2_col2\" class=\"data row2 col2\" >177</td>\n",
       "      <td id=\"T_f1539_row2_col3\" class=\"data row2 col3\" >89</td>\n",
       "    </tr>\n",
       "    <tr>\n",
       "      <th id=\"T_f1539_level0_row3\" class=\"row_heading level0 row3\" >Ben</th>\n",
       "      <td id=\"T_f1539_row3_col0\" class=\"data row3 col0\" >2</td>\n",
       "      <td id=\"T_f1539_row3_col1\" class=\"data row3 col1\" >30</td>\n",
       "      <td id=\"T_f1539_row3_col2\" class=\"data row3 col2\" >18</td>\n",
       "      <td id=\"T_f1539_row3_col3\" class=\"data row3 col3\" >-94</td>\n",
       "    </tr>\n",
       "    <tr>\n",
       "      <th id=\"T_f1539_level0_row4\" class=\"row_heading level0 row4\" >Doruk</th>\n",
       "      <td id=\"T_f1539_row4_col0\" class=\"data row4 col0\" >-126</td>\n",
       "      <td id=\"T_f1539_row4_col1\" class=\"data row4 col1\" >-207</td>\n",
       "      <td id=\"T_f1539_row4_col2\" class=\"data row4 col2\" >-183</td>\n",
       "      <td id=\"T_f1539_row4_col3\" class=\"data row4 col3\" >-28</td>\n",
       "    </tr>\n",
       "  </tbody>\n",
       "</table>\n"
      ],
      "text/plain": [
       "<pandas.io.formats.style.Styler at 0x1b6240b3520>"
      ]
     },
     "execution_count": 28,
     "metadata": {},
     "output_type": "execute_result"
    }
   ],
   "source": [
    "import seaborn as sns\n",
    "\n",
    "cm = sns.light_palette(\"seagreen\", as_cmap=True)\n",
    "\n",
    "s = contracts_df.style.background_gradient(cmap=cm)\n",
    "s"
   ]
  },
  {
   "cell_type": "code",
   "execution_count": null,
   "id": "fb3b330a",
   "metadata": {},
   "outputs": [],
   "source": []
  },
  {
   "cell_type": "markdown",
   "id": "a4aedd59",
   "metadata": {},
   "source": [
    "#### Average prices and trade counts for each contract"
   ]
  },
  {
   "cell_type": "code",
   "execution_count": 29,
   "id": "c8c615d8",
   "metadata": {
    "ExecuteTime": {
     "end_time": "2022-03-21T07:42:04.349307Z",
     "start_time": "2022-03-21T07:42:04.322039Z"
    }
   },
   "outputs": [
    {
     "name": "stdout",
     "output_type": "stream",
     "text": [
      "['hearts', 'diamonds', 'clubs', 'spades']\n",
      "[109, 238, 154, 169]\n",
      "[25.53, 22.97, 20.47, 37.54]\n",
      "[21.48, 27.89, 17.64, 28.97]\n",
      "[174, 337, 331, 75]\n",
      "[4.05, -4.92, 2.83, 8.57]\n"
     ]
    }
   ],
   "source": [
    "average_buys = []\n",
    "average_sells = []\n",
    "average_spreads = []\n",
    "buy_count = []\n",
    "sell_count = []\n",
    "\n",
    "for i in range(4):\n",
    "    average_buys.append(round(df[(df.market==contracts[i]) & (df.type == \"buy\")].price.mean(),2))\n",
    "    average_sells.append(round(df[(df.market==contracts[i]) & (df.type == \"sell\")].price.mean(),2))\n",
    "    average_spreads.append(round(average_buys[i] - average_sells[i],2))\n",
    "\n",
    "for i in range(4):\n",
    "    buy_count.append(df[(df.market==contracts[i]) & (df.type == \"buy\")].shape[0])\n",
    "    sell_count.append(df[(df.market==contracts[i]) & (df.type == \"sell\")].shape[0])\n",
    "\n",
    "\n",
    "\n",
    "\n",
    "print(contracts)\n",
    "print(buy_count)\n",
    "print(average_buys)\n",
    "print(average_sells)\n",
    "print(sell_count)\n",
    "print(average_spreads)\n",
    "\n"
   ]
  },
  {
   "cell_type": "code",
   "execution_count": 36,
   "id": "de58e9dc",
   "metadata": {
    "ExecuteTime": {
     "end_time": "2022-03-21T07:44:23.756861Z",
     "start_time": "2022-03-21T07:44:23.733082Z"
    }
   },
   "outputs": [
    {
     "data": {
      "text/html": [
       "<div>\n",
       "<style scoped>\n",
       "    .dataframe tbody tr th:only-of-type {\n",
       "        vertical-align: middle;\n",
       "    }\n",
       "\n",
       "    .dataframe tbody tr th {\n",
       "        vertical-align: top;\n",
       "    }\n",
       "\n",
       "    .dataframe thead th {\n",
       "        text-align: right;\n",
       "    }\n",
       "</style>\n",
       "<table border=\"1\" class=\"dataframe\">\n",
       "  <thead>\n",
       "    <tr style=\"text-align: right;\">\n",
       "      <th></th>\n",
       "      <th>Contract</th>\n",
       "      <th>#buys</th>\n",
       "      <th>#sells</th>\n",
       "      <th>Average buy price</th>\n",
       "      <th>Average sell price</th>\n",
       "    </tr>\n",
       "  </thead>\n",
       "  <tbody>\n",
       "    <tr>\n",
       "      <th>0</th>\n",
       "      <td>hearts</td>\n",
       "      <td>109</td>\n",
       "      <td>174</td>\n",
       "      <td>0.2553</td>\n",
       "      <td>0.2148</td>\n",
       "    </tr>\n",
       "    <tr>\n",
       "      <th>1</th>\n",
       "      <td>diamonds</td>\n",
       "      <td>238</td>\n",
       "      <td>337</td>\n",
       "      <td>0.2297</td>\n",
       "      <td>0.2789</td>\n",
       "    </tr>\n",
       "    <tr>\n",
       "      <th>2</th>\n",
       "      <td>clubs</td>\n",
       "      <td>154</td>\n",
       "      <td>331</td>\n",
       "      <td>0.2047</td>\n",
       "      <td>0.1764</td>\n",
       "    </tr>\n",
       "    <tr>\n",
       "      <th>3</th>\n",
       "      <td>spades</td>\n",
       "      <td>169</td>\n",
       "      <td>75</td>\n",
       "      <td>0.3754</td>\n",
       "      <td>0.2897</td>\n",
       "    </tr>\n",
       "  </tbody>\n",
       "</table>\n",
       "</div>"
      ],
      "text/plain": [
       "   Contract  #buys  #sells  Average buy price  Average sell price\n",
       "0    hearts    109     174             0.2553              0.2148\n",
       "1  diamonds    238     337             0.2297              0.2789\n",
       "2     clubs    154     331             0.2047              0.1764\n",
       "3    spades    169      75             0.3754              0.2897"
      ]
     },
     "execution_count": 36,
     "metadata": {},
     "output_type": "execute_result"
    }
   ],
   "source": [
    "# Put in dataframe\n",
    "data = []\n",
    "\n",
    "for i in range(4):\n",
    "    data.append([contracts[i], buy_count[i], sell_count[i], average_buys[i]/100, average_sells[i]/100])                \n",
    "\n",
    "    contracts_df = pd.DataFrame(data,columns=[\"Contract\",\"#buys\",\"#sells\",\"Average buy price\",\"Average sell price\"])\n",
    "\n",
    "    \n",
    "    \n",
    "contracts_df"
   ]
  },
  {
   "cell_type": "code",
   "execution_count": 44,
   "id": "54f89e44",
   "metadata": {
    "ExecuteTime": {
     "end_time": "2022-03-21T07:48:35.453879Z",
     "start_time": "2022-03-21T07:48:35.431635Z"
    }
   },
   "outputs": [
    {
     "data": {
      "text/html": [
       "<style type=\"text/css\">\n",
       "#T_c2511_row0_col0, #T_c2511_row3_col1 {\n",
       "  background-color: #eff1f2;\n",
       "  color: #000000;\n",
       "}\n",
       "#T_c2511_row0_col1 {\n",
       "  background-color: #d6e8ed;\n",
       "  color: #000000;\n",
       "}\n",
       "#T_c2511_row1_col0, #T_c2511_row1_col1 {\n",
       "  background-color: #add8e6;\n",
       "  color: #000000;\n",
       "}\n",
       "#T_c2511_row2_col0 {\n",
       "  background-color: #d8e8ee;\n",
       "  color: #000000;\n",
       "}\n",
       "#T_c2511_row2_col1 {\n",
       "  background-color: #aed8e6;\n",
       "  color: #000000;\n",
       "}\n",
       "#T_c2511_row3_col0 {\n",
       "  background-color: #d0e5ec;\n",
       "  color: #000000;\n",
       "}\n",
       "</style>\n",
       "<table id=\"T_c2511\">\n",
       "  <thead>\n",
       "    <tr>\n",
       "      <th class=\"blank level0\" >&nbsp;</th>\n",
       "      <th id=\"T_c2511_level0_col0\" class=\"col_heading level0 col0\" >#buys</th>\n",
       "      <th id=\"T_c2511_level0_col1\" class=\"col_heading level0 col1\" >#sells</th>\n",
       "    </tr>\n",
       "  </thead>\n",
       "  <tbody>\n",
       "    <tr>\n",
       "      <th id=\"T_c2511_level0_row0\" class=\"row_heading level0 row0\" >0</th>\n",
       "      <td id=\"T_c2511_row0_col0\" class=\"data row0 col0\" >109</td>\n",
       "      <td id=\"T_c2511_row0_col1\" class=\"data row0 col1\" >174</td>\n",
       "    </tr>\n",
       "    <tr>\n",
       "      <th id=\"T_c2511_level0_row1\" class=\"row_heading level0 row1\" >1</th>\n",
       "      <td id=\"T_c2511_row1_col0\" class=\"data row1 col0\" >238</td>\n",
       "      <td id=\"T_c2511_row1_col1\" class=\"data row1 col1\" >337</td>\n",
       "    </tr>\n",
       "    <tr>\n",
       "      <th id=\"T_c2511_level0_row2\" class=\"row_heading level0 row2\" >2</th>\n",
       "      <td id=\"T_c2511_row2_col0\" class=\"data row2 col0\" >154</td>\n",
       "      <td id=\"T_c2511_row2_col1\" class=\"data row2 col1\" >331</td>\n",
       "    </tr>\n",
       "    <tr>\n",
       "      <th id=\"T_c2511_level0_row3\" class=\"row_heading level0 row3\" >3</th>\n",
       "      <td id=\"T_c2511_row3_col0\" class=\"data row3 col0\" >169</td>\n",
       "      <td id=\"T_c2511_row3_col1\" class=\"data row3 col1\" >75</td>\n",
       "    </tr>\n",
       "  </tbody>\n",
       "</table>\n"
      ],
      "text/plain": [
       "<pandas.io.formats.style.Styler at 0x1b624060880>"
      ]
     },
     "execution_count": 44,
     "metadata": {},
     "output_type": "execute_result"
    }
   ],
   "source": [
    "cm = sns.light_palette(\"lightblue\", as_cmap=True)\n",
    "\n",
    "s = contracts_df[[\"#buys\",\"#sells\"]].style.background_gradient(cmap=cm)\n",
    "s"
   ]
  },
  {
   "cell_type": "code",
   "execution_count": 41,
   "id": "50f660f8",
   "metadata": {
    "ExecuteTime": {
     "end_time": "2022-03-21T07:47:25.317385Z",
     "start_time": "2022-03-21T07:47:25.249933Z"
    }
   },
   "outputs": [
    {
     "ename": "AttributeError",
     "evalue": "'Styler' object has no attribute 'merge'",
     "output_type": "error",
     "traceback": [
      "\u001b[1;31m---------------------------------------------------------------------------\u001b[0m",
      "\u001b[1;31mAttributeError\u001b[0m                            Traceback (most recent call last)",
      "\u001b[1;32m~\\AppData\\Local\\Temp/ipykernel_19704/3894056792.py\u001b[0m in \u001b[0;36m<module>\u001b[1;34m\u001b[0m\n\u001b[1;32m----> 1\u001b[1;33m \u001b[0ms\u001b[0m\u001b[1;33m.\u001b[0m\u001b[0mmerge\u001b[0m\u001b[1;33m(\u001b[0m\u001b[0mcontracts_df\u001b[0m\u001b[1;33m[\u001b[0m\u001b[1;33m[\u001b[0m\u001b[1;34m\"Average buy price\"\u001b[0m\u001b[1;33m,\u001b[0m\u001b[1;34m\"Average sell price\"\u001b[0m\u001b[1;33m]\u001b[0m\u001b[1;33m]\u001b[0m\u001b[1;33m)\u001b[0m\u001b[1;33m\u001b[0m\u001b[1;33m\u001b[0m\u001b[0m\n\u001b[0m",
      "\u001b[1;31mAttributeError\u001b[0m: 'Styler' object has no attribute 'merge'"
     ]
    }
   ],
   "source": []
  },
  {
   "cell_type": "code",
   "execution_count": null,
   "id": "90a6c691",
   "metadata": {},
   "outputs": [],
   "source": []
  },
  {
   "cell_type": "markdown",
   "id": "65d3050e",
   "metadata": {
    "ExecuteTime": {
     "end_time": "2022-03-17T17:57:18.329754Z",
     "start_time": "2022-03-17T17:57:18.316635Z"
    }
   },
   "source": [
    "### Cash balances for each player\n",
    "##### Problem here! add market maker balances"
   ]
  },
  {
   "cell_type": "code",
   "execution_count": 47,
   "id": "76596519",
   "metadata": {
    "ExecuteTime": {
     "end_time": "2022-03-21T07:49:40.416122Z",
     "start_time": "2022-03-21T07:49:40.411070Z"
    }
   },
   "outputs": [],
   "source": [
    "players = [Isolde, Luke, Feyzi, Ben, Doruk]"
   ]
  },
  {
   "cell_type": "code",
   "execution_count": 64,
   "id": "b66fdae4",
   "metadata": {
    "ExecuteTime": {
     "end_time": "2022-03-21T07:55:41.262803Z",
     "start_time": "2022-03-21T07:55:41.243803Z"
    }
   },
   "outputs": [
    {
     "data": {
      "text/plain": [
       "array([  0.18, -11.47, -61.31,  -4.14, 110.74])"
      ]
     },
     "execution_count": 64,
     "metadata": {},
     "output_type": "execute_result"
    }
   ],
   "source": [
    "def calc_balance(df):\n",
    "    balance = 0\n",
    "    balance -= df[df[\"type\"] == \"buy\"][\"price\"].sum()\n",
    "    balance += df[df[\"type\"] == \"sell\"][\"price\"].sum()\n",
    "    return balance/100\n",
    "\n",
    "balances = np.zeros(5)\n",
    "for i in range(len(players)):\n",
    "    balances[i] = calc_balance(players[i])\n",
    "balances"
   ]
  },
  {
   "cell_type": "markdown",
   "id": "da697434",
   "metadata": {
    "ExecuteTime": {
     "end_time": "2022-03-17T17:59:43.705060Z",
     "start_time": "2022-03-17T17:59:43.696061Z"
    }
   },
   "source": [
    "### Need to add marketmakers revenue "
   ]
  },
  {
   "cell_type": "code",
   "execution_count": 65,
   "id": "e5d0b63c",
   "metadata": {
    "ExecuteTime": {
     "end_time": "2022-03-21T07:55:42.082922Z",
     "start_time": "2022-03-21T07:55:42.059910Z"
    }
   },
   "outputs": [
    {
     "data": {
      "text/plain": [
       "array([ -9.54, -39.32, -26.85,  41.71])"
      ]
     },
     "execution_count": 65,
     "metadata": {},
     "output_type": "execute_result"
    }
   ],
   "source": [
    "maker_sums = np.zeros(4)\n",
    "\n",
    "for i in range(4):\n",
    "    temp = df[(df[\"market\"]== contracts[i]) & (df[\"type\"] == \"buy\")].price.sum()\n",
    "    temp -= df[(df[\"market\"]== contracts[i]) & (df[\"type\"] == \"sell\")].price.sum()\n",
    "    maker_sums[i] =  temp/100\n",
    "\n",
    "maker_sums"
   ]
  },
  {
   "cell_type": "code",
   "execution_count": 66,
   "id": "34155088",
   "metadata": {
    "ExecuteTime": {
     "end_time": "2022-03-21T07:55:44.972992Z",
     "start_time": "2022-03-21T07:55:44.965994Z"
    }
   },
   "outputs": [
    {
     "data": {
      "text/plain": [
       "array([ -9.36, -50.79, -88.16,  37.57, 110.74])"
      ]
     },
     "execution_count": 66,
     "metadata": {},
     "output_type": "execute_result"
    }
   ],
   "source": [
    "net_balances = np.zeros(5)\n",
    "for i in range(4):\n",
    "    net_balances[i] = maker_sums[i] + balances[i]\n",
    "    \n",
    "net_balances[4] = balances[4]\n",
    "net_balances"
   ]
  },
  {
   "cell_type": "code",
   "execution_count": 64,
   "id": "94215574",
   "metadata": {
    "ExecuteTime": {
     "end_time": "2022-03-17T18:17:19.813142Z",
     "start_time": "2022-03-17T18:17:19.791481Z"
    }
   },
   "outputs": [
    {
     "data": {
      "text/plain": [
       "[-37.36, -36.79, -69.16, 126.57, 16.739999999999995]"
      ]
     },
     "execution_count": 64,
     "metadata": {},
     "output_type": "execute_result"
    }
   ],
   "source": [
    "grand_final = np.zeros(5)\n",
    "for i in range(5):\n",
    "    grand_final[i] = contracts_df[\"spades\"][i] + net_balances[i]\n",
    "\n",
    "grand_final"
   ]
  },
  {
   "cell_type": "code",
   "execution_count": 73,
   "id": "1b29c057",
   "metadata": {
    "ExecuteTime": {
     "end_time": "2022-03-21T07:56:56.524754Z",
     "start_time": "2022-03-21T07:56:56.504752Z"
    }
   },
   "outputs": [
    {
     "data": {
      "text/html": [
       "<div>\n",
       "<style scoped>\n",
       "    .dataframe tbody tr th:only-of-type {\n",
       "        vertical-align: middle;\n",
       "    }\n",
       "\n",
       "    .dataframe tbody tr th {\n",
       "        vertical-align: top;\n",
       "    }\n",
       "\n",
       "    .dataframe thead th {\n",
       "        text-align: right;\n",
       "    }\n",
       "</style>\n",
       "<table border=\"1\" class=\"dataframe\">\n",
       "  <thead>\n",
       "    <tr style=\"text-align: right;\">\n",
       "      <th></th>\n",
       "      <th>market</th>\n",
       "      <th>actor</th>\n",
       "      <th>price</th>\n",
       "      <th>round</th>\n",
       "      <th>type</th>\n",
       "    </tr>\n",
       "  </thead>\n",
       "  <tbody>\n",
       "    <tr>\n",
       "      <th>0</th>\n",
       "      <td>spades</td>\n",
       "      <td>Feyzi</td>\n",
       "      <td>55</td>\n",
       "      <td>32</td>\n",
       "      <td>buy</td>\n",
       "    </tr>\n",
       "    <tr>\n",
       "      <th>1</th>\n",
       "      <td>spades</td>\n",
       "      <td>Feyzi</td>\n",
       "      <td>55</td>\n",
       "      <td>32</td>\n",
       "      <td>buy</td>\n",
       "    </tr>\n",
       "    <tr>\n",
       "      <th>2</th>\n",
       "      <td>spades</td>\n",
       "      <td>Feyzi</td>\n",
       "      <td>55</td>\n",
       "      <td>32</td>\n",
       "      <td>buy</td>\n",
       "    </tr>\n",
       "    <tr>\n",
       "      <th>5</th>\n",
       "      <td>spades</td>\n",
       "      <td>Feyzi</td>\n",
       "      <td>55</td>\n",
       "      <td>32</td>\n",
       "      <td>buy</td>\n",
       "    </tr>\n",
       "    <tr>\n",
       "      <th>7</th>\n",
       "      <td>spades</td>\n",
       "      <td>Feyzi</td>\n",
       "      <td>55</td>\n",
       "      <td>32</td>\n",
       "      <td>buy</td>\n",
       "    </tr>\n",
       "    <tr>\n",
       "      <th>...</th>\n",
       "      <td>...</td>\n",
       "      <td>...</td>\n",
       "      <td>...</td>\n",
       "      <td>...</td>\n",
       "      <td>...</td>\n",
       "    </tr>\n",
       "    <tr>\n",
       "      <th>1569</th>\n",
       "      <td>spades</td>\n",
       "      <td>Doruk</td>\n",
       "      <td>43</td>\n",
       "      <td>1</td>\n",
       "      <td>sell</td>\n",
       "    </tr>\n",
       "    <tr>\n",
       "      <th>1571</th>\n",
       "      <td>spades</td>\n",
       "      <td>Doruk</td>\n",
       "      <td>40</td>\n",
       "      <td>1</td>\n",
       "      <td>sell</td>\n",
       "    </tr>\n",
       "    <tr>\n",
       "      <th>1575</th>\n",
       "      <td>spades</td>\n",
       "      <td>Doruk</td>\n",
       "      <td>40</td>\n",
       "      <td>1</td>\n",
       "      <td>sell</td>\n",
       "    </tr>\n",
       "    <tr>\n",
       "      <th>1579</th>\n",
       "      <td>spades</td>\n",
       "      <td>Doruk</td>\n",
       "      <td>40</td>\n",
       "      <td>1</td>\n",
       "      <td>sell</td>\n",
       "    </tr>\n",
       "    <tr>\n",
       "      <th>1583</th>\n",
       "      <td>spades</td>\n",
       "      <td>Doruk</td>\n",
       "      <td>40</td>\n",
       "      <td>1</td>\n",
       "      <td>sell</td>\n",
       "    </tr>\n",
       "  </tbody>\n",
       "</table>\n",
       "<p>244 rows × 5 columns</p>\n",
       "</div>"
      ],
      "text/plain": [
       "      market  actor  price  round  type\n",
       "0     spades  Feyzi     55     32   buy\n",
       "1     spades  Feyzi     55     32   buy\n",
       "2     spades  Feyzi     55     32   buy\n",
       "5     spades  Feyzi     55     32   buy\n",
       "7     spades  Feyzi     55     32   buy\n",
       "...      ...    ...    ...    ...   ...\n",
       "1569  spades  Doruk     43      1  sell\n",
       "1571  spades  Doruk     40      1  sell\n",
       "1575  spades  Doruk     40      1  sell\n",
       "1579  spades  Doruk     40      1  sell\n",
       "1583  spades  Doruk     40      1  sell\n",
       "\n",
       "[244 rows x 5 columns]"
      ]
     },
     "execution_count": 73,
     "metadata": {},
     "output_type": "execute_result"
    }
   ],
   "source": [
    "df[df[\"market\"] == \"spades\"]"
   ]
  },
  {
   "cell_type": "markdown",
   "id": "1fc3a702",
   "metadata": {},
   "source": [
    "### Running Tally "
   ]
  },
  {
   "cell_type": "code",
   "execution_count": null,
   "id": "6debc53d",
   "metadata": {},
   "outputs": [],
   "source": []
  }
 ],
 "metadata": {
  "kernelspec": {
   "display_name": "Python 3 (ipykernel)",
   "language": "python",
   "name": "python3"
  },
  "language_info": {
   "codemirror_mode": {
    "name": "ipython",
    "version": 3
   },
   "file_extension": ".py",
   "mimetype": "text/x-python",
   "name": "python",
   "nbconvert_exporter": "python",
   "pygments_lexer": "ipython3",
   "version": "3.8.12"
  }
 },
 "nbformat": 4,
 "nbformat_minor": 5
}
