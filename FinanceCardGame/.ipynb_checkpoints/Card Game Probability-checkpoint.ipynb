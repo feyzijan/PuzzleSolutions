{
 "cells": [
  {
   "cell_type": "markdown",
   "id": "40f77ae1",
   "metadata": {},
   "source": [
    "# Make best use of available info "
   ]
  },
  {
   "cell_type": "markdown",
   "id": "2b60c97f",
   "metadata": {},
   "source": [
    "Revealed card counts"
   ]
  },
  {
   "cell_type": "code",
   "execution_count": 35,
   "id": "67b8ba6d",
   "metadata": {
    "ExecuteTime": {
     "end_time": "2022-03-06T22:55:03.703708Z",
     "start_time": "2022-03-06T22:55:03.690725Z"
    }
   },
   "outputs": [],
   "source": [
    "import pandas as pd\n",
    "import numpy as np\n",
    "\n",
    "cols = [\"Heart\", \"Diamond\", \"Club\", \"Spade\", \"Sum\", \"P-Heart\",\"P-Diamond\", \"P-Club\", \"P-spade\"]\n",
    "df = pd.DataFrame(np.zeros((40,9)),columns=cols)\n",
    "df.head()\n",
    "\n",
    "index = 1\n",
    "\n",
    "def initialize_df(df):\n",
    "    for i in range(4):\n",
    "        df.iloc[0,i] = int(input(f\"# of {cols[i]}\"))\n",
    "        \n",
    "    df.iloc[0,4] = sum(df.iloc[0,[0,1,2,3]])\n",
    "    \n",
    "    for i in range(5,9):\n",
    "        df.iloc[0,i] = (13 - df.iloc[0,i-5])/ (52- df[\"Sum\"][0])\n",
    "\n",
    "def update_df(df):\n",
    "    global index\n",
    "    for i in range(4):\n",
    "        df.iloc[index,i] = int(input(f\"# of revealed {cols[i]}:  \")) + df.iloc[index-1,i]\n",
    "        \n",
    "    df.iloc[index,4] = sum(df.iloc[index,[0,1,2,3]])\n",
    "    \n",
    "    for i in range(5,9):\n",
    "        df.iloc[index,i] = (13 - df.iloc[index,i-5])/ (52- df.iloc[index,4])\n",
    "    \n",
    "    index +=1"
   ]
  },
  {
   "cell_type": "markdown",
   "id": "5dfe1d05",
   "metadata": {},
   "source": [
    "Create empty dataframe"
   ]
  },
  {
   "cell_type": "markdown",
   "id": "27e5be7a",
   "metadata": {},
   "source": [
    "### Initialise"
   ]
  },
  {
   "cell_type": "code",
   "execution_count": 36,
   "id": "08079044",
   "metadata": {
    "ExecuteTime": {
     "end_time": "2022-03-06T22:55:07.588166Z",
     "start_time": "2022-03-06T22:55:05.485966Z"
    }
   },
   "outputs": [
    {
     "name": "stdout",
     "output_type": "stream",
     "text": [
      "# of Heart2\n",
      "# of Diamond1\n",
      "# of Club4\n",
      "# of Spade1\n"
     ]
    },
    {
     "data": {
      "text/html": [
       "<div>\n",
       "<style scoped>\n",
       "    .dataframe tbody tr th:only-of-type {\n",
       "        vertical-align: middle;\n",
       "    }\n",
       "\n",
       "    .dataframe tbody tr th {\n",
       "        vertical-align: top;\n",
       "    }\n",
       "\n",
       "    .dataframe thead th {\n",
       "        text-align: right;\n",
       "    }\n",
       "</style>\n",
       "<table border=\"1\" class=\"dataframe\">\n",
       "  <thead>\n",
       "    <tr style=\"text-align: right;\">\n",
       "      <th></th>\n",
       "      <th>Heart</th>\n",
       "      <th>Diamond</th>\n",
       "      <th>Club</th>\n",
       "      <th>Spade</th>\n",
       "      <th>Sum</th>\n",
       "      <th>P-Heart</th>\n",
       "      <th>P-Diamond</th>\n",
       "      <th>P-Club</th>\n",
       "      <th>P-spade</th>\n",
       "    </tr>\n",
       "  </thead>\n",
       "  <tbody>\n",
       "    <tr>\n",
       "      <th>0</th>\n",
       "      <td>2.0</td>\n",
       "      <td>1.0</td>\n",
       "      <td>4.0</td>\n",
       "      <td>1.0</td>\n",
       "      <td>8.0</td>\n",
       "      <td>0.25</td>\n",
       "      <td>0.272727</td>\n",
       "      <td>0.204545</td>\n",
       "      <td>0.272727</td>\n",
       "    </tr>\n",
       "    <tr>\n",
       "      <th>1</th>\n",
       "      <td>0.0</td>\n",
       "      <td>0.0</td>\n",
       "      <td>0.0</td>\n",
       "      <td>0.0</td>\n",
       "      <td>0.0</td>\n",
       "      <td>0.00</td>\n",
       "      <td>0.000000</td>\n",
       "      <td>0.000000</td>\n",
       "      <td>0.000000</td>\n",
       "    </tr>\n",
       "    <tr>\n",
       "      <th>2</th>\n",
       "      <td>0.0</td>\n",
       "      <td>0.0</td>\n",
       "      <td>0.0</td>\n",
       "      <td>0.0</td>\n",
       "      <td>0.0</td>\n",
       "      <td>0.00</td>\n",
       "      <td>0.000000</td>\n",
       "      <td>0.000000</td>\n",
       "      <td>0.000000</td>\n",
       "    </tr>\n",
       "    <tr>\n",
       "      <th>3</th>\n",
       "      <td>0.0</td>\n",
       "      <td>0.0</td>\n",
       "      <td>0.0</td>\n",
       "      <td>0.0</td>\n",
       "      <td>0.0</td>\n",
       "      <td>0.00</td>\n",
       "      <td>0.000000</td>\n",
       "      <td>0.000000</td>\n",
       "      <td>0.000000</td>\n",
       "    </tr>\n",
       "    <tr>\n",
       "      <th>4</th>\n",
       "      <td>0.0</td>\n",
       "      <td>0.0</td>\n",
       "      <td>0.0</td>\n",
       "      <td>0.0</td>\n",
       "      <td>0.0</td>\n",
       "      <td>0.00</td>\n",
       "      <td>0.000000</td>\n",
       "      <td>0.000000</td>\n",
       "      <td>0.000000</td>\n",
       "    </tr>\n",
       "  </tbody>\n",
       "</table>\n",
       "</div>"
      ],
      "text/plain": [
       "   Heart  Diamond  Club  Spade  Sum  P-Heart  P-Diamond    P-Club   P-spade\n",
       "0    2.0      1.0   4.0    1.0  8.0     0.25   0.272727  0.204545  0.272727\n",
       "1    0.0      0.0   0.0    0.0  0.0     0.00   0.000000  0.000000  0.000000\n",
       "2    0.0      0.0   0.0    0.0  0.0     0.00   0.000000  0.000000  0.000000\n",
       "3    0.0      0.0   0.0    0.0  0.0     0.00   0.000000  0.000000  0.000000\n",
       "4    0.0      0.0   0.0    0.0  0.0     0.00   0.000000  0.000000  0.000000"
      ]
     },
     "execution_count": 36,
     "metadata": {},
     "output_type": "execute_result"
    }
   ],
   "source": [
    "initialize_df(df)\n",
    "df.head()"
   ]
  },
  {
   "cell_type": "markdown",
   "id": "4d080d05",
   "metadata": {},
   "source": [
    "### Update values"
   ]
  },
  {
   "cell_type": "code",
   "execution_count": null,
   "id": "26f63545",
   "metadata": {
    "ExecuteTime": {
     "start_time": "2022-03-06T22:55:31.979Z"
    }
   },
   "outputs": [
    {
     "name": "stdout",
     "output_type": "stream",
     "text": [
      "# of revealed Heart:  1\n",
      "# of revealed Diamond:  0\n",
      "# of revealed Club:  0\n",
      "# of revealed Spade:  0\n",
      "Heart        3.000000\n",
      "Diamond      1.000000\n",
      "Club         4.000000\n",
      "Spade        1.000000\n",
      "Sum          9.000000\n",
      "P-Heart      0.232558\n",
      "P-Diamond    0.279070\n",
      "P-Club       0.209302\n",
      "P-spade      0.279070\n",
      "Name: 1, dtype: float64\n",
      "# of revealed Heart:  1\n",
      "# of revealed Diamond:  0\n",
      "# of revealed Club:  0\n",
      "# of revealed Spade:  0\n",
      "Heart         4.000000\n",
      "Diamond       1.000000\n",
      "Club          4.000000\n",
      "Spade         1.000000\n",
      "Sum          10.000000\n",
      "P-Heart       0.214286\n",
      "P-Diamond     0.285714\n",
      "P-Club        0.214286\n",
      "P-spade       0.285714\n",
      "Name: 2, dtype: float64\n",
      "# of revealed Heart:  7\n",
      "# of revealed Diamond:  0\n",
      "# of revealed Club:  0\n",
      "# of revealed Spade:  0\n",
      "Heart        11.000000\n",
      "Diamond       1.000000\n",
      "Club          4.000000\n",
      "Spade         1.000000\n",
      "Sum          17.000000\n",
      "P-Heart       0.057143\n",
      "P-Diamond     0.342857\n",
      "P-Club        0.257143\n",
      "P-spade       0.342857\n",
      "Name: 3, dtype: float64\n"
     ]
    }
   ],
   "source": [
    "for k in range(30):\n",
    "    update_df(df)\n",
    "    print(df.iloc[index-1])"
   ]
  }
 ],
 "metadata": {
  "kernelspec": {
   "display_name": "Python 3 (ipykernel)",
   "language": "python",
   "name": "python3"
  },
  "language_info": {
   "codemirror_mode": {
    "name": "ipython",
    "version": 3
   },
   "file_extension": ".py",
   "mimetype": "text/x-python",
   "name": "python",
   "nbconvert_exporter": "python",
   "pygments_lexer": "ipython3",
   "version": "3.8.12"
  }
 },
 "nbformat": 4,
 "nbformat_minor": 5
}
