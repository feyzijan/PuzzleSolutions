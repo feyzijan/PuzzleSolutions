{
 "cells": [
  {
   "cell_type": "markdown",
   "id": "316c4502",
   "metadata": {},
   "source": [
    "Imports"
   ]
  },
  {
   "cell_type": "code",
   "execution_count": 280,
   "id": "f344f837",
   "metadata": {
    "ExecuteTime": {
     "end_time": "2022-03-21T12:46:11.966387Z",
     "start_time": "2022-03-21T12:46:11.958397Z"
    }
   },
   "outputs": [],
   "source": [
    "import pandas as pd\n",
    "import numpy as np"
   ]
  },
  {
   "cell_type": "markdown",
   "id": "f9dbac49",
   "metadata": {},
   "source": [
    "#### Read data and drop columns, fix names"
   ]
  },
  {
   "cell_type": "code",
   "execution_count": 281,
   "id": "057c7935",
   "metadata": {
    "ExecuteTime": {
     "end_time": "2022-03-21T12:46:13.917665Z",
     "start_time": "2022-03-21T12:46:13.873671Z"
    }
   },
   "outputs": [
    {
     "data": {
      "text/html": [
       "<div>\n",
       "<style scoped>\n",
       "    .dataframe tbody tr th:only-of-type {\n",
       "        vertical-align: middle;\n",
       "    }\n",
       "\n",
       "    .dataframe tbody tr th {\n",
       "        vertical-align: top;\n",
       "    }\n",
       "\n",
       "    .dataframe thead th {\n",
       "        text-align: right;\n",
       "    }\n",
       "</style>\n",
       "<table border=\"1\" class=\"dataframe\">\n",
       "  <thead>\n",
       "    <tr style=\"text-align: right;\">\n",
       "      <th></th>\n",
       "      <th>market</th>\n",
       "      <th>actor</th>\n",
       "      <th>price</th>\n",
       "      <th>round</th>\n",
       "      <th>type</th>\n",
       "    </tr>\n",
       "  </thead>\n",
       "  <tbody>\n",
       "    <tr>\n",
       "      <th>0</th>\n",
       "      <td>spades</td>\n",
       "      <td>Feyzi</td>\n",
       "      <td>55</td>\n",
       "      <td>32</td>\n",
       "      <td>buy</td>\n",
       "    </tr>\n",
       "    <tr>\n",
       "      <th>1</th>\n",
       "      <td>spades</td>\n",
       "      <td>Feyzi</td>\n",
       "      <td>55</td>\n",
       "      <td>32</td>\n",
       "      <td>buy</td>\n",
       "    </tr>\n",
       "    <tr>\n",
       "      <th>2</th>\n",
       "      <td>spades</td>\n",
       "      <td>Feyzi</td>\n",
       "      <td>55</td>\n",
       "      <td>32</td>\n",
       "      <td>buy</td>\n",
       "    </tr>\n",
       "    <tr>\n",
       "      <th>3</th>\n",
       "      <td>diamonds</td>\n",
       "      <td>Doruk</td>\n",
       "      <td>34</td>\n",
       "      <td>32</td>\n",
       "      <td>sell</td>\n",
       "    </tr>\n",
       "    <tr>\n",
       "      <th>4</th>\n",
       "      <td>diamonds</td>\n",
       "      <td>Doruk</td>\n",
       "      <td>34</td>\n",
       "      <td>32</td>\n",
       "      <td>sell</td>\n",
       "    </tr>\n",
       "    <tr>\n",
       "      <th>...</th>\n",
       "      <td>...</td>\n",
       "      <td>...</td>\n",
       "      <td>...</td>\n",
       "      <td>...</td>\n",
       "      <td>...</td>\n",
       "    </tr>\n",
       "    <tr>\n",
       "      <th>1582</th>\n",
       "      <td>clubs</td>\n",
       "      <td>Doruk</td>\n",
       "      <td>40</td>\n",
       "      <td>1</td>\n",
       "      <td>sell</td>\n",
       "    </tr>\n",
       "    <tr>\n",
       "      <th>1583</th>\n",
       "      <td>spades</td>\n",
       "      <td>Doruk</td>\n",
       "      <td>40</td>\n",
       "      <td>1</td>\n",
       "      <td>sell</td>\n",
       "    </tr>\n",
       "    <tr>\n",
       "      <th>1584</th>\n",
       "      <td>hearts</td>\n",
       "      <td>Doruk</td>\n",
       "      <td>40</td>\n",
       "      <td>1</td>\n",
       "      <td>sell</td>\n",
       "    </tr>\n",
       "    <tr>\n",
       "      <th>1585</th>\n",
       "      <td>diamonds</td>\n",
       "      <td>Doruk</td>\n",
       "      <td>40</td>\n",
       "      <td>1</td>\n",
       "      <td>sell</td>\n",
       "    </tr>\n",
       "    <tr>\n",
       "      <th>1586</th>\n",
       "      <td>clubs</td>\n",
       "      <td>Doruk</td>\n",
       "      <td>40</td>\n",
       "      <td>1</td>\n",
       "      <td>sell</td>\n",
       "    </tr>\n",
       "  </tbody>\n",
       "</table>\n",
       "<p>1587 rows × 5 columns</p>\n",
       "</div>"
      ],
      "text/plain": [
       "        market  actor  price  round  type\n",
       "0       spades  Feyzi     55     32   buy\n",
       "1       spades  Feyzi     55     32   buy\n",
       "2       spades  Feyzi     55     32   buy\n",
       "3     diamonds  Doruk     34     32  sell\n",
       "4     diamonds  Doruk     34     32  sell\n",
       "...        ...    ...    ...    ...   ...\n",
       "1582     clubs  Doruk     40      1  sell\n",
       "1583    spades  Doruk     40      1  sell\n",
       "1584    hearts  Doruk     40      1  sell\n",
       "1585  diamonds  Doruk     40      1  sell\n",
       "1586     clubs  Doruk     40      1  sell\n",
       "\n",
       "[1587 rows x 5 columns]"
      ]
     },
     "execution_count": 281,
     "metadata": {},
     "output_type": "execute_result"
    }
   ],
   "source": [
    "df = pd.read_csv(\"gamesLog.csv\")\n",
    "df.drop(labels=[\"game_id\",\"actor_id\",\"date\",\"time\"],axis=1,inplace=True)\n",
    "a = df.loc[:,\"actor\"] == \"feyzi\"\n",
    "df.loc[a,\"actor\"] = \"Feyzi\"\n",
    "a = df.loc[:,\"actor\"] == \"5c651592-2d37-4622-ab5b-0ff4ca29f2f8\"\n",
    "df.loc[a,\"actor\"] = \"Doruk\"\n",
    "df"
   ]
  },
  {
   "cell_type": "markdown",
   "id": "484e6d2f",
   "metadata": {
    "ExecuteTime": {
     "end_time": "2022-03-16T23:31:36.429616Z",
     "start_time": "2022-03-16T23:31:36.421628Z"
    }
   },
   "source": [
    "# Summary stats"
   ]
  },
  {
   "cell_type": "markdown",
   "id": "0303c518",
   "metadata": {},
   "source": [
    "Some useful stats"
   ]
  },
  {
   "cell_type": "code",
   "execution_count": 282,
   "id": "939f1b5a",
   "metadata": {
    "ExecuteTime": {
     "end_time": "2022-03-21T12:46:15.730772Z",
     "start_time": "2022-03-21T12:46:15.690394Z"
    }
   },
   "outputs": [
    {
     "data": {
      "text/html": [
       "<div>\n",
       "<style scoped>\n",
       "    .dataframe tbody tr th:only-of-type {\n",
       "        vertical-align: middle;\n",
       "    }\n",
       "\n",
       "    .dataframe tbody tr th {\n",
       "        vertical-align: top;\n",
       "    }\n",
       "\n",
       "    .dataframe thead th {\n",
       "        text-align: right;\n",
       "    }\n",
       "</style>\n",
       "<table border=\"1\" class=\"dataframe\">\n",
       "  <thead>\n",
       "    <tr style=\"text-align: right;\">\n",
       "      <th></th>\n",
       "      <th>market</th>\n",
       "      <th>actor</th>\n",
       "      <th>type</th>\n",
       "    </tr>\n",
       "  </thead>\n",
       "  <tbody>\n",
       "    <tr>\n",
       "      <th>Ben</th>\n",
       "      <td>NaN</td>\n",
       "      <td>162.0</td>\n",
       "      <td>NaN</td>\n",
       "    </tr>\n",
       "    <tr>\n",
       "      <th>Doruk</th>\n",
       "      <td>NaN</td>\n",
       "      <td>608.0</td>\n",
       "      <td>NaN</td>\n",
       "    </tr>\n",
       "    <tr>\n",
       "      <th>Feyzi</th>\n",
       "      <td>NaN</td>\n",
       "      <td>444.0</td>\n",
       "      <td>NaN</td>\n",
       "    </tr>\n",
       "    <tr>\n",
       "      <th>Isolde</th>\n",
       "      <td>NaN</td>\n",
       "      <td>199.0</td>\n",
       "      <td>NaN</td>\n",
       "    </tr>\n",
       "    <tr>\n",
       "      <th>Luke</th>\n",
       "      <td>NaN</td>\n",
       "      <td>174.0</td>\n",
       "      <td>NaN</td>\n",
       "    </tr>\n",
       "    <tr>\n",
       "      <th>buy</th>\n",
       "      <td>NaN</td>\n",
       "      <td>NaN</td>\n",
       "      <td>670.0</td>\n",
       "    </tr>\n",
       "    <tr>\n",
       "      <th>clubs</th>\n",
       "      <td>485.0</td>\n",
       "      <td>NaN</td>\n",
       "      <td>NaN</td>\n",
       "    </tr>\n",
       "    <tr>\n",
       "      <th>diamonds</th>\n",
       "      <td>575.0</td>\n",
       "      <td>NaN</td>\n",
       "      <td>NaN</td>\n",
       "    </tr>\n",
       "    <tr>\n",
       "      <th>hearts</th>\n",
       "      <td>283.0</td>\n",
       "      <td>NaN</td>\n",
       "      <td>NaN</td>\n",
       "    </tr>\n",
       "    <tr>\n",
       "      <th>sell</th>\n",
       "      <td>NaN</td>\n",
       "      <td>NaN</td>\n",
       "      <td>917.0</td>\n",
       "    </tr>\n",
       "    <tr>\n",
       "      <th>spades</th>\n",
       "      <td>244.0</td>\n",
       "      <td>NaN</td>\n",
       "      <td>NaN</td>\n",
       "    </tr>\n",
       "  </tbody>\n",
       "</table>\n",
       "</div>"
      ],
      "text/plain": [
       "          market  actor   type\n",
       "Ben          NaN  162.0    NaN\n",
       "Doruk        NaN  608.0    NaN\n",
       "Feyzi        NaN  444.0    NaN\n",
       "Isolde       NaN  199.0    NaN\n",
       "Luke         NaN  174.0    NaN\n",
       "buy          NaN    NaN  670.0\n",
       "clubs      485.0    NaN    NaN\n",
       "diamonds   575.0    NaN    NaN\n",
       "hearts     283.0    NaN    NaN\n",
       "sell         NaN    NaN  917.0\n",
       "spades     244.0    NaN    NaN"
      ]
     },
     "execution_count": 282,
     "metadata": {},
     "output_type": "execute_result"
    }
   ],
   "source": [
    "summary = df[[\"market\",\"actor\",\"type\"]].apply(pd.Series.value_counts).copy()\n",
    "summary"
   ]
  },
  {
   "cell_type": "markdown",
   "id": "90dfbacf",
   "metadata": {},
   "source": [
    "#### Calculate own R32 loss"
   ]
  },
  {
   "cell_type": "code",
   "execution_count": 283,
   "id": "f6d67d2c",
   "metadata": {
    "ExecuteTime": {
     "end_time": "2022-03-21T12:46:16.717326Z",
     "start_time": "2022-03-21T12:46:16.693309Z"
    }
   },
   "outputs": [
    {
     "name": "stdout",
     "output_type": "stream",
     "text": [
      "27.76 $ loss\n",
      "104  trades\n"
     ]
    }
   ],
   "source": [
    "round_32 = df[(df[\"market\"]==\"clubs\") & (df[\"round\"] == 32)].copy()\n",
    "print(round_32.price.sum() /100, \"$ loss\")\n",
    "print(round_32.shape[0], \" trades\")"
   ]
  },
  {
   "cell_type": "code",
   "execution_count": null,
   "id": "72e7ac3e",
   "metadata": {},
   "outputs": [],
   "source": []
  },
  {
   "cell_type": "markdown",
   "id": "cd684fcc",
   "metadata": {},
   "source": [
    "### Contract balances for each player"
   ]
  },
  {
   "cell_type": "markdown",
   "id": "19d19076",
   "metadata": {},
   "source": [
    "DFs for all players"
   ]
  },
  {
   "cell_type": "code",
   "execution_count": 284,
   "id": "05c8c008",
   "metadata": {
    "ExecuteTime": {
     "end_time": "2022-03-21T12:46:17.979777Z",
     "start_time": "2022-03-21T12:46:17.955268Z"
    }
   },
   "outputs": [],
   "source": [
    "Isolde = df[[\"market\",\"actor\",\"type\",\"price\"]][df.actor==\"Isolde\"]\n",
    "Luke   = df[[\"market\",\"actor\",\"type\",\"price\"]][df.actor==\"Luke\"]\n",
    "Feyzi  = df[[\"market\",\"actor\",\"type\",\"price\"]][df.actor==\"Feyzi\"]\n",
    "Ben    = df[[\"market\",\"actor\",\"type\",\"price\"]][df.actor==\"Ben\"]\n",
    "Doruk  = df[[\"market\",\"actor\",\"type\",\"price\"]][df.actor==\"Doruk\"]\n",
    "\n",
    "players = [Isolde, Luke, Feyzi, Ben, Doruk]"
   ]
  },
  {
   "cell_type": "code",
   "execution_count": 285,
   "id": "563a74ab",
   "metadata": {
    "ExecuteTime": {
     "end_time": "2022-03-21T12:46:19.108233Z",
     "start_time": "2022-03-21T12:46:19.083798Z"
    }
   },
   "outputs": [
    {
     "data": {
      "text/html": [
       "<div>\n",
       "<style scoped>\n",
       "    .dataframe tbody tr th:only-of-type {\n",
       "        vertical-align: middle;\n",
       "    }\n",
       "\n",
       "    .dataframe tbody tr th {\n",
       "        vertical-align: top;\n",
       "    }\n",
       "\n",
       "    .dataframe thead th {\n",
       "        text-align: right;\n",
       "    }\n",
       "</style>\n",
       "<table border=\"1\" class=\"dataframe\">\n",
       "  <thead>\n",
       "    <tr style=\"text-align: right;\">\n",
       "      <th></th>\n",
       "      <th>hearts</th>\n",
       "      <th>diamonds</th>\n",
       "      <th>clubs</th>\n",
       "      <th>spades</th>\n",
       "      <th>total_absolute</th>\n",
       "      <th>total_net</th>\n",
       "    </tr>\n",
       "    <tr>\n",
       "      <th>Player</th>\n",
       "      <th></th>\n",
       "      <th></th>\n",
       "      <th></th>\n",
       "      <th></th>\n",
       "      <th></th>\n",
       "      <th></th>\n",
       "    </tr>\n",
       "  </thead>\n",
       "  <tbody>\n",
       "    <tr>\n",
       "      <th>Isolde</th>\n",
       "      <td>0</td>\n",
       "      <td>0</td>\n",
       "      <td>0</td>\n",
       "      <td>0</td>\n",
       "      <td>0</td>\n",
       "      <td>0</td>\n",
       "    </tr>\n",
       "    <tr>\n",
       "      <th>Luke</th>\n",
       "      <td>0</td>\n",
       "      <td>0</td>\n",
       "      <td>0</td>\n",
       "      <td>0</td>\n",
       "      <td>0</td>\n",
       "      <td>0</td>\n",
       "    </tr>\n",
       "    <tr>\n",
       "      <th>Feyzi</th>\n",
       "      <td>0</td>\n",
       "      <td>0</td>\n",
       "      <td>0</td>\n",
       "      <td>0</td>\n",
       "      <td>0</td>\n",
       "      <td>0</td>\n",
       "    </tr>\n",
       "    <tr>\n",
       "      <th>Ben</th>\n",
       "      <td>0</td>\n",
       "      <td>0</td>\n",
       "      <td>0</td>\n",
       "      <td>0</td>\n",
       "      <td>0</td>\n",
       "      <td>0</td>\n",
       "    </tr>\n",
       "    <tr>\n",
       "      <th>Doruk</th>\n",
       "      <td>0</td>\n",
       "      <td>0</td>\n",
       "      <td>0</td>\n",
       "      <td>0</td>\n",
       "      <td>0</td>\n",
       "      <td>0</td>\n",
       "    </tr>\n",
       "  </tbody>\n",
       "</table>\n",
       "</div>"
      ],
      "text/plain": [
       "        hearts  diamonds  clubs  spades  total_absolute  total_net\n",
       "Player                                                            \n",
       "Isolde       0         0      0       0               0          0\n",
       "Luke         0         0      0       0               0          0\n",
       "Feyzi        0         0      0       0               0          0\n",
       "Ben          0         0      0       0               0          0\n",
       "Doruk        0         0      0       0               0          0"
      ]
     },
     "execution_count": 285,
     "metadata": {},
     "output_type": "execute_result"
    }
   ],
   "source": [
    "contracts_dict = {\n",
    "    \"Player\": [\"Isolde\",\"Luke\",\"Feyzi\",\"Ben\",\"Doruk\"],\n",
    "    \"hearts\": [0,0,0,0,0],\n",
    "    \"diamonds\":[0,0,0,0,0],\n",
    "    \"clubs\":[0,0,0,0,0],\n",
    "    \"spades\":[0,0,0,0,0],\n",
    "    \"total_absolute\" : [0,0,0,0,0],\n",
    "    \"total_net\": [0,0,0,0,0]\n",
    "}\n",
    "contracts_df = df.from_dict(contracts_dict)\n",
    "contracts_df.set_index(\"Player\",inplace=True)\n",
    "contracts_df"
   ]
  },
  {
   "cell_type": "code",
   "execution_count": 286,
   "id": "0a926bc4",
   "metadata": {
    "ExecuteTime": {
     "end_time": "2022-03-21T12:46:19.961437Z",
     "start_time": "2022-03-21T12:46:19.889348Z"
    }
   },
   "outputs": [],
   "source": [
    "def get_net_contract(df,contract):\n",
    "    return df[(df[\"type\"] == \"buy\") & (df[\"market\"] == contract)].shape[0] - df[(df[\"type\"] == \"sell\") & (df[\"market\"] == contract)].shape[0]\n",
    "\n",
    "def calc_contract_balances(df):\n",
    "    contracts= [\"hearts\",\"diamonds\",\"clubs\",\"spades\"]\n",
    "    balances = []\n",
    "    for i in range(len(contracts)):\n",
    "        balances.append(get_net_contract(df,contracts[i]))\n",
    "    return balances\n",
    "\n",
    "contracts= [\"hearts\",\"diamonds\",\"clubs\",\"spades\"]\n",
    "\n",
    "# Populate table\n",
    "contracts_df.loc[\"Isolde\",contracts] = calc_contract_balances(Isolde)\n",
    "contracts_df.loc[\"Luke\",contracts] = calc_contract_balances(Luke)\n",
    "contracts_df.loc[\"Feyzi\",contracts] = calc_contract_balances(Feyzi)\n",
    "contracts_df.loc[\"Ben\",contracts] = calc_contract_balances(Ben)\n",
    "contracts_df.loc[\"Doruk\",contracts] = calc_contract_balances(Doruk)\n",
    "\n",
    "\n",
    "# Add market maker balances\n",
    "contracts_df.loc[\"Isolde\",\"hearts\"] = -contracts_df.hearts.sum()\n",
    "contracts_df.loc[\"Luke\",\"diamonds\"] = -contracts_df.diamonds.sum()\n",
    "contracts_df.loc[\"Feyzi\",\"clubs\"] = -contracts_df.clubs.sum()\n",
    "contracts_df.loc[\"Ben\",\"spades\"] = -contracts_df.spades.sum()\n",
    "\n",
    "contract_balances_df = contracts_df.copy()"
   ]
  },
  {
   "cell_type": "code",
   "execution_count": 287,
   "id": "23655cf6",
   "metadata": {
    "ExecuteTime": {
     "end_time": "2022-03-21T12:46:21.110401Z",
     "start_time": "2022-03-21T12:46:21.098655Z"
    }
   },
   "outputs": [],
   "source": [
    "contracts_df.loc[:,\"total_net\"] = [26,143,419,-44,-544]\n",
    "contracts_df.loc[:,\"total_absolute\"] = [132,143,419,144,544]"
   ]
  },
  {
   "cell_type": "code",
   "execution_count": 288,
   "id": "7ed41a9a",
   "metadata": {
    "ExecuteTime": {
     "end_time": "2022-03-21T12:46:22.209718Z",
     "start_time": "2022-03-21T12:46:22.165709Z"
    }
   },
   "outputs": [
    {
     "data": {
      "text/html": [
       "<style type=\"text/css\">\n",
       "#T_3d595_row0_col0, #T_3d595_row2_col1, #T_3d595_row2_col2, #T_3d595_row2_col3, #T_3d595_row2_col5, #T_3d595_row4_col4 {\n",
       "  background-color: #2e8b57;\n",
       "  color: #f1f1f1;\n",
       "}\n",
       "#T_3d595_row0_col1 {\n",
       "  background-color: #7db696;\n",
       "  color: #f1f1f1;\n",
       "}\n",
       "#T_3d595_row0_col2 {\n",
       "  background-color: #99c6ac;\n",
       "  color: #000000;\n",
       "}\n",
       "#T_3d595_row0_col3, #T_3d595_row0_col5 {\n",
       "  background-color: #7bb594;\n",
       "  color: #f1f1f1;\n",
       "}\n",
       "#T_3d595_row0_col4, #T_3d595_row3_col3, #T_3d595_row4_col0, #T_3d595_row4_col1, #T_3d595_row4_col2, #T_3d595_row4_col5 {\n",
       "  background-color: #ebf3ed;\n",
       "  color: #000000;\n",
       "}\n",
       "#T_3d595_row1_col0, #T_3d595_row1_col5 {\n",
       "  background-color: #64a982;\n",
       "  color: #f1f1f1;\n",
       "}\n",
       "#T_3d595_row1_col1 {\n",
       "  background-color: #318d59;\n",
       "  color: #f1f1f1;\n",
       "}\n",
       "#T_3d595_row1_col2 {\n",
       "  background-color: #83ba9b;\n",
       "  color: #000000;\n",
       "}\n",
       "#T_3d595_row1_col3 {\n",
       "  background-color: #76b290;\n",
       "  color: #f1f1f1;\n",
       "}\n",
       "#T_3d595_row1_col4 {\n",
       "  background-color: #e7f0ea;\n",
       "  color: #000000;\n",
       "}\n",
       "#T_3d595_row2_col0 {\n",
       "  background-color: #3e9463;\n",
       "  color: #f1f1f1;\n",
       "}\n",
       "#T_3d595_row2_col4 {\n",
       "  background-color: #67aa84;\n",
       "  color: #f1f1f1;\n",
       "}\n",
       "#T_3d595_row3_col0 {\n",
       "  background-color: #6cad88;\n",
       "  color: #f1f1f1;\n",
       "}\n",
       "#T_3d595_row3_col1 {\n",
       "  background-color: #5aa37a;\n",
       "  color: #f1f1f1;\n",
       "}\n",
       "#T_3d595_row3_col2 {\n",
       "  background-color: #82b99a;\n",
       "  color: #000000;\n",
       "}\n",
       "#T_3d595_row3_col4 {\n",
       "  background-color: #e6f0e9;\n",
       "  color: #000000;\n",
       "}\n",
       "#T_3d595_row3_col5 {\n",
       "  background-color: #89bd9f;\n",
       "  color: #000000;\n",
       "}\n",
       "#T_3d595_row4_col3 {\n",
       "  background-color: #a7cdb7;\n",
       "  color: #000000;\n",
       "}\n",
       "</style>\n",
       "<table id=\"T_3d595\">\n",
       "  <thead>\n",
       "    <tr>\n",
       "      <th class=\"blank level0\" >&nbsp;</th>\n",
       "      <th id=\"T_3d595_level0_col0\" class=\"col_heading level0 col0\" >hearts</th>\n",
       "      <th id=\"T_3d595_level0_col1\" class=\"col_heading level0 col1\" >diamonds</th>\n",
       "      <th id=\"T_3d595_level0_col2\" class=\"col_heading level0 col2\" >clubs</th>\n",
       "      <th id=\"T_3d595_level0_col3\" class=\"col_heading level0 col3\" >spades</th>\n",
       "      <th id=\"T_3d595_level0_col4\" class=\"col_heading level0 col4\" >total_absolute</th>\n",
       "      <th id=\"T_3d595_level0_col5\" class=\"col_heading level0 col5\" >total_net</th>\n",
       "    </tr>\n",
       "    <tr>\n",
       "      <th class=\"index_name level0\" >Player</th>\n",
       "      <th class=\"blank col0\" >&nbsp;</th>\n",
       "      <th class=\"blank col1\" >&nbsp;</th>\n",
       "      <th class=\"blank col2\" >&nbsp;</th>\n",
       "      <th class=\"blank col3\" >&nbsp;</th>\n",
       "      <th class=\"blank col4\" >&nbsp;</th>\n",
       "      <th class=\"blank col5\" >&nbsp;</th>\n",
       "    </tr>\n",
       "  </thead>\n",
       "  <tbody>\n",
       "    <tr>\n",
       "      <th id=\"T_3d595_level0_row0\" class=\"row_heading level0 row0\" >Isolde</th>\n",
       "      <td id=\"T_3d595_row0_col0\" class=\"data row0 col0\" >65</td>\n",
       "      <td id=\"T_3d595_row0_col1\" class=\"data row0 col1\" >-26</td>\n",
       "      <td id=\"T_3d595_row0_col2\" class=\"data row0 col2\" >-27</td>\n",
       "      <td id=\"T_3d595_row0_col3\" class=\"data row0 col3\" >14</td>\n",
       "      <td id=\"T_3d595_row0_col4\" class=\"data row0 col4\" >132</td>\n",
       "      <td id=\"T_3d595_row0_col5\" class=\"data row0 col5\" >26</td>\n",
       "    </tr>\n",
       "    <tr>\n",
       "      <th id=\"T_3d595_level0_row1\" class=\"row_heading level0 row1\" >Luke</th>\n",
       "      <td id=\"T_3d595_row1_col0\" class=\"data row1 col0\" >10</td>\n",
       "      <td id=\"T_3d595_row1_col1\" class=\"data row1 col1\" >99</td>\n",
       "      <td id=\"T_3d595_row1_col2\" class=\"data row1 col2\" >15</td>\n",
       "      <td id=\"T_3d595_row1_col3\" class=\"data row1 col3\" >19</td>\n",
       "      <td id=\"T_3d595_row1_col4\" class=\"data row1 col4\" >143</td>\n",
       "      <td id=\"T_3d595_row1_col5\" class=\"data row1 col5\" >143</td>\n",
       "    </tr>\n",
       "    <tr>\n",
       "      <th id=\"T_3d595_level0_row2\" class=\"row_heading level0 row2\" >Feyzi</th>\n",
       "      <td id=\"T_3d595_row2_col0\" class=\"data row2 col0\" >49</td>\n",
       "      <td id=\"T_3d595_row2_col1\" class=\"data row2 col1\" >104</td>\n",
       "      <td id=\"T_3d595_row2_col2\" class=\"data row2 col2\" >177</td>\n",
       "      <td id=\"T_3d595_row2_col3\" class=\"data row2 col3\" >89</td>\n",
       "      <td id=\"T_3d595_row2_col4\" class=\"data row2 col4\" >419</td>\n",
       "      <td id=\"T_3d595_row2_col5\" class=\"data row2 col5\" >419</td>\n",
       "    </tr>\n",
       "    <tr>\n",
       "      <th id=\"T_3d595_level0_row3\" class=\"row_heading level0 row3\" >Ben</th>\n",
       "      <td id=\"T_3d595_row3_col0\" class=\"data row3 col0\" >2</td>\n",
       "      <td id=\"T_3d595_row3_col1\" class=\"data row3 col1\" >30</td>\n",
       "      <td id=\"T_3d595_row3_col2\" class=\"data row3 col2\" >18</td>\n",
       "      <td id=\"T_3d595_row3_col3\" class=\"data row3 col3\" >-94</td>\n",
       "      <td id=\"T_3d595_row3_col4\" class=\"data row3 col4\" >144</td>\n",
       "      <td id=\"T_3d595_row3_col5\" class=\"data row3 col5\" >-44</td>\n",
       "    </tr>\n",
       "    <tr>\n",
       "      <th id=\"T_3d595_level0_row4\" class=\"row_heading level0 row4\" >Doruk</th>\n",
       "      <td id=\"T_3d595_row4_col0\" class=\"data row4 col0\" >-126</td>\n",
       "      <td id=\"T_3d595_row4_col1\" class=\"data row4 col1\" >-207</td>\n",
       "      <td id=\"T_3d595_row4_col2\" class=\"data row4 col2\" >-183</td>\n",
       "      <td id=\"T_3d595_row4_col3\" class=\"data row4 col3\" >-28</td>\n",
       "      <td id=\"T_3d595_row4_col4\" class=\"data row4 col4\" >544</td>\n",
       "      <td id=\"T_3d595_row4_col5\" class=\"data row4 col5\" >-544</td>\n",
       "    </tr>\n",
       "  </tbody>\n",
       "</table>\n"
      ],
      "text/plain": [
       "<pandas.io.formats.style.Styler at 0x1b624a887c0>"
      ]
     },
     "execution_count": 288,
     "metadata": {},
     "output_type": "execute_result"
    }
   ],
   "source": [
    "import seaborn as sns\n",
    "\n",
    "cm = sns.light_palette(\"seagreen\", as_cmap=True)\n",
    "\n",
    "s = contracts_df.style.background_gradient(cmap=cm)\n",
    "s"
   ]
  },
  {
   "cell_type": "code",
   "execution_count": null,
   "id": "723948fc",
   "metadata": {},
   "outputs": [],
   "source": []
  },
  {
   "cell_type": "markdown",
   "id": "a4aedd59",
   "metadata": {},
   "source": [
    "#### Average prices and trade counts for each contract"
   ]
  },
  {
   "cell_type": "code",
   "execution_count": 290,
   "id": "c8c615d8",
   "metadata": {
    "ExecuteTime": {
     "end_time": "2022-03-21T12:46:40.450662Z",
     "start_time": "2022-03-21T12:46:40.402900Z"
    }
   },
   "outputs": [
    {
     "name": "stdout",
     "output_type": "stream",
     "text": [
      "['hearts', 'diamonds', 'clubs', 'spades']\n",
      "[109. 238. 154. 169.]\n",
      "[25.53 22.97 20.47 37.54]\n",
      "[21.48 27.89 17.64 28.97]\n",
      "[174. 337. 331.  75.]\n",
      "[ 4.05 -4.92  2.83  8.57]\n"
     ]
    }
   ],
   "source": [
    "average_buys = np.zeros(4)\n",
    "average_sells = np.zeros(4)\n",
    "average_spreads = np.zeros(4)\n",
    "buy_count = np.zeros(4)\n",
    "sell_count = np.zeros(4)\n",
    "\n",
    "contracts= [\"hearts\",\"diamonds\",\"clubs\",\"spades\"]\n",
    "\n",
    "for i in range(4):\n",
    "    average_buys[i] = round(df[(df.market==contracts[i]) & (df.type == \"buy\")].price.mean(),2)\n",
    "    average_sells[i] = round(df[(df.market==contracts[i]) & (df.type == \"sell\")].price.mean(),2)\n",
    "    average_spreads[i] = average_buys[i] - average_sells[i]\n",
    "    buy_count[i] = round(df[(df.market==contracts[i]) & (df.type == \"buy\")].shape[0],2)\n",
    "    sell_count[i]= round(df[(df.market==contracts[i]) & (df.type == \"sell\")].shape[0],2)\n",
    "\n",
    "\n",
    "\n",
    "\n",
    "print(contracts)\n",
    "print(buy_count)\n",
    "print(average_buys)\n",
    "print(average_sells)\n",
    "print(sell_count)\n",
    "print(average_spreads)\n",
    "\n"
   ]
  },
  {
   "cell_type": "code",
   "execution_count": 293,
   "id": "de58e9dc",
   "metadata": {
    "ExecuteTime": {
     "end_time": "2022-03-21T12:46:49.239655Z",
     "start_time": "2022-03-21T12:46:49.207925Z"
    }
   },
   "outputs": [
    {
     "data": {
      "text/html": [
       "<div>\n",
       "<style scoped>\n",
       "    .dataframe tbody tr th:only-of-type {\n",
       "        vertical-align: middle;\n",
       "    }\n",
       "\n",
       "    .dataframe tbody tr th {\n",
       "        vertical-align: top;\n",
       "    }\n",
       "\n",
       "    .dataframe thead th {\n",
       "        text-align: right;\n",
       "    }\n",
       "</style>\n",
       "<table border=\"1\" class=\"dataframe\">\n",
       "  <thead>\n",
       "    <tr style=\"text-align: right;\">\n",
       "      <th></th>\n",
       "      <th>Contract</th>\n",
       "      <th>#buys</th>\n",
       "      <th>#sells</th>\n",
       "      <th>Average buy price</th>\n",
       "      <th>Average sell price</th>\n",
       "    </tr>\n",
       "  </thead>\n",
       "  <tbody>\n",
       "    <tr>\n",
       "      <th>0</th>\n",
       "      <td>hearts</td>\n",
       "      <td>109.0</td>\n",
       "      <td>174.0</td>\n",
       "      <td>0.2553</td>\n",
       "      <td>0.2148</td>\n",
       "    </tr>\n",
       "    <tr>\n",
       "      <th>1</th>\n",
       "      <td>diamonds</td>\n",
       "      <td>238.0</td>\n",
       "      <td>337.0</td>\n",
       "      <td>0.2297</td>\n",
       "      <td>0.2789</td>\n",
       "    </tr>\n",
       "    <tr>\n",
       "      <th>2</th>\n",
       "      <td>clubs</td>\n",
       "      <td>154.0</td>\n",
       "      <td>331.0</td>\n",
       "      <td>0.2047</td>\n",
       "      <td>0.1764</td>\n",
       "    </tr>\n",
       "    <tr>\n",
       "      <th>3</th>\n",
       "      <td>spades</td>\n",
       "      <td>169.0</td>\n",
       "      <td>75.0</td>\n",
       "      <td>0.3754</td>\n",
       "      <td>0.2897</td>\n",
       "    </tr>\n",
       "  </tbody>\n",
       "</table>\n",
       "</div>"
      ],
      "text/plain": [
       "   Contract  #buys  #sells  Average buy price  Average sell price\n",
       "0    hearts  109.0   174.0             0.2553              0.2148\n",
       "1  diamonds  238.0   337.0             0.2297              0.2789\n",
       "2     clubs  154.0   331.0             0.2047              0.1764\n",
       "3    spades  169.0    75.0             0.3754              0.2897"
      ]
     },
     "execution_count": 293,
     "metadata": {},
     "output_type": "execute_result"
    }
   ],
   "source": [
    "# Put in dataframe\n",
    "data = []\n",
    "\n",
    "for i in range(4):\n",
    "    data.append([contracts[i], buy_count[i], sell_count[i], average_buys[i]/100, average_sells[i]/100])                \n",
    "\n",
    "    contracts_df = pd.DataFrame(data,columns=[\"Contract\",\"#buys\",\"#sells\",\"Average buy price\",\"Average sell price\"])\n",
    "\n",
    "    \n",
    "    \n",
    "contracts_df"
   ]
  },
  {
   "cell_type": "code",
   "execution_count": 294,
   "id": "61cbd8aa",
   "metadata": {
    "ExecuteTime": {
     "end_time": "2022-03-21T12:47:00.591411Z",
     "start_time": "2022-03-21T12:47:00.555483Z"
    }
   },
   "outputs": [
    {
     "name": "stderr",
     "output_type": "stream",
     "text": [
      "C:\\Users\\feyzi\\AppData\\Local\\Temp/ipykernel_19704/2205514523.py:6: FutureWarning: The frame.append method is deprecated and will be removed from pandas in a future version. Use pandas.concat instead.\n",
      "  contracts_df = contracts_df.append( new_row, ignore_index=True)\n"
     ]
    }
   ],
   "source": [
    "new_row = {\n",
    "    'Contract': \"All\", '#buys':670, '#sells':917, 'Average buy price':0.265,\n",
    "       'Average sell price':0.231\n",
    "}\n",
    "\n",
    "contracts_df = contracts_df.append( new_row, ignore_index=True)"
   ]
  },
  {
   "cell_type": "code",
   "execution_count": 295,
   "id": "8b8a20ba",
   "metadata": {
    "ExecuteTime": {
     "end_time": "2022-03-21T12:47:01.830563Z",
     "start_time": "2022-03-21T12:47:01.814471Z"
    }
   },
   "outputs": [
    {
     "data": {
      "text/html": [
       "<div>\n",
       "<style scoped>\n",
       "    .dataframe tbody tr th:only-of-type {\n",
       "        vertical-align: middle;\n",
       "    }\n",
       "\n",
       "    .dataframe tbody tr th {\n",
       "        vertical-align: top;\n",
       "    }\n",
       "\n",
       "    .dataframe thead th {\n",
       "        text-align: right;\n",
       "    }\n",
       "</style>\n",
       "<table border=\"1\" class=\"dataframe\">\n",
       "  <thead>\n",
       "    <tr style=\"text-align: right;\">\n",
       "      <th></th>\n",
       "      <th>Contract</th>\n",
       "      <th>#buys</th>\n",
       "      <th>#sells</th>\n",
       "      <th>Average buy price</th>\n",
       "      <th>Average sell price</th>\n",
       "    </tr>\n",
       "  </thead>\n",
       "  <tbody>\n",
       "    <tr>\n",
       "      <th>0</th>\n",
       "      <td>hearts</td>\n",
       "      <td>109.0</td>\n",
       "      <td>174.0</td>\n",
       "      <td>0.2553</td>\n",
       "      <td>0.2148</td>\n",
       "    </tr>\n",
       "    <tr>\n",
       "      <th>1</th>\n",
       "      <td>diamonds</td>\n",
       "      <td>238.0</td>\n",
       "      <td>337.0</td>\n",
       "      <td>0.2297</td>\n",
       "      <td>0.2789</td>\n",
       "    </tr>\n",
       "    <tr>\n",
       "      <th>2</th>\n",
       "      <td>clubs</td>\n",
       "      <td>154.0</td>\n",
       "      <td>331.0</td>\n",
       "      <td>0.2047</td>\n",
       "      <td>0.1764</td>\n",
       "    </tr>\n",
       "    <tr>\n",
       "      <th>3</th>\n",
       "      <td>spades</td>\n",
       "      <td>169.0</td>\n",
       "      <td>75.0</td>\n",
       "      <td>0.3754</td>\n",
       "      <td>0.2897</td>\n",
       "    </tr>\n",
       "    <tr>\n",
       "      <th>4</th>\n",
       "      <td>All</td>\n",
       "      <td>670.0</td>\n",
       "      <td>917.0</td>\n",
       "      <td>0.2650</td>\n",
       "      <td>0.2310</td>\n",
       "    </tr>\n",
       "  </tbody>\n",
       "</table>\n",
       "</div>"
      ],
      "text/plain": [
       "   Contract  #buys  #sells  Average buy price  Average sell price\n",
       "0    hearts  109.0   174.0             0.2553              0.2148\n",
       "1  diamonds  238.0   337.0             0.2297              0.2789\n",
       "2     clubs  154.0   331.0             0.2047              0.1764\n",
       "3    spades  169.0    75.0             0.3754              0.2897\n",
       "4       All  670.0   917.0             0.2650              0.2310"
      ]
     },
     "execution_count": 295,
     "metadata": {},
     "output_type": "execute_result"
    }
   ],
   "source": [
    "contracts_df"
   ]
  },
  {
   "cell_type": "code",
   "execution_count": 296,
   "id": "995b3b11",
   "metadata": {
    "ExecuteTime": {
     "end_time": "2022-03-21T12:47:02.920501Z",
     "start_time": "2022-03-21T12:47:02.888102Z"
    }
   },
   "outputs": [
    {
     "data": {
      "text/html": [
       "<style type=\"text/css\">\n",
       "#T_f6f1d_row0_col1, #T_f6f1d_row2_col3, #T_f6f1d_row2_col4, #T_f6f1d_row3_col2 {\n",
       "  background-color: #ffffcc;\n",
       "  color: #000000;\n",
       "}\n",
       "#T_f6f1d_row0_col2 {\n",
       "  background-color: #ffeea3;\n",
       "  color: #000000;\n",
       "}\n",
       "#T_f6f1d_row0_col3 {\n",
       "  background-color: #fecb67;\n",
       "  color: #000000;\n",
       "}\n",
       "#T_f6f1d_row0_col4 {\n",
       "  background-color: #febe59;\n",
       "  color: #000000;\n",
       "}\n",
       "#T_f6f1d_row1_col1 {\n",
       "  background-color: #fedd7e;\n",
       "  color: #000000;\n",
       "}\n",
       "#T_f6f1d_row1_col2 {\n",
       "  background-color: #fec662;\n",
       "  color: #000000;\n",
       "}\n",
       "#T_f6f1d_row1_col3 {\n",
       "  background-color: #ffea99;\n",
       "  color: #000000;\n",
       "}\n",
       "#T_f6f1d_row1_col4 {\n",
       "  background-color: #ae0026;\n",
       "  color: #f1f1f1;\n",
       "}\n",
       "#T_f6f1d_row2_col1 {\n",
       "  background-color: #fff4b0;\n",
       "  color: #000000;\n",
       "}\n",
       "#T_f6f1d_row2_col2 {\n",
       "  background-color: #fec965;\n",
       "  color: #000000;\n",
       "}\n",
       "#T_f6f1d_row3_col1 {\n",
       "  background-color: #fff0a7;\n",
       "  color: #000000;\n",
       "}\n",
       "#T_f6f1d_row3_col3, #T_f6f1d_row3_col4, #T_f6f1d_row4_col1, #T_f6f1d_row4_col2 {\n",
       "  background-color: #800026;\n",
       "  color: #f1f1f1;\n",
       "}\n",
       "#T_f6f1d_row4_col3 {\n",
       "  background-color: #feb953;\n",
       "  color: #000000;\n",
       "}\n",
       "#T_f6f1d_row4_col4 {\n",
       "  background-color: #fd923e;\n",
       "  color: #000000;\n",
       "}\n",
       "</style>\n",
       "<table id=\"T_f6f1d\">\n",
       "  <thead>\n",
       "    <tr>\n",
       "      <th class=\"blank level0\" >&nbsp;</th>\n",
       "      <th id=\"T_f6f1d_level0_col0\" class=\"col_heading level0 col0\" >Contract</th>\n",
       "      <th id=\"T_f6f1d_level0_col1\" class=\"col_heading level0 col1\" >#buys</th>\n",
       "      <th id=\"T_f6f1d_level0_col2\" class=\"col_heading level0 col2\" >#sells</th>\n",
       "      <th id=\"T_f6f1d_level0_col3\" class=\"col_heading level0 col3\" >Average buy price</th>\n",
       "      <th id=\"T_f6f1d_level0_col4\" class=\"col_heading level0 col4\" >Average sell price</th>\n",
       "    </tr>\n",
       "  </thead>\n",
       "  <tbody>\n",
       "    <tr>\n",
       "      <th id=\"T_f6f1d_level0_row0\" class=\"row_heading level0 row0\" >0</th>\n",
       "      <td id=\"T_f6f1d_row0_col0\" class=\"data row0 col0\" >hearts</td>\n",
       "      <td id=\"T_f6f1d_row0_col1\" class=\"data row0 col1\" >109.000000</td>\n",
       "      <td id=\"T_f6f1d_row0_col2\" class=\"data row0 col2\" >174.000000</td>\n",
       "      <td id=\"T_f6f1d_row0_col3\" class=\"data row0 col3\" >0.255300</td>\n",
       "      <td id=\"T_f6f1d_row0_col4\" class=\"data row0 col4\" >0.214800</td>\n",
       "    </tr>\n",
       "    <tr>\n",
       "      <th id=\"T_f6f1d_level0_row1\" class=\"row_heading level0 row1\" >1</th>\n",
       "      <td id=\"T_f6f1d_row1_col0\" class=\"data row1 col0\" >diamonds</td>\n",
       "      <td id=\"T_f6f1d_row1_col1\" class=\"data row1 col1\" >238.000000</td>\n",
       "      <td id=\"T_f6f1d_row1_col2\" class=\"data row1 col2\" >337.000000</td>\n",
       "      <td id=\"T_f6f1d_row1_col3\" class=\"data row1 col3\" >0.229700</td>\n",
       "      <td id=\"T_f6f1d_row1_col4\" class=\"data row1 col4\" >0.278900</td>\n",
       "    </tr>\n",
       "    <tr>\n",
       "      <th id=\"T_f6f1d_level0_row2\" class=\"row_heading level0 row2\" >2</th>\n",
       "      <td id=\"T_f6f1d_row2_col0\" class=\"data row2 col0\" >clubs</td>\n",
       "      <td id=\"T_f6f1d_row2_col1\" class=\"data row2 col1\" >154.000000</td>\n",
       "      <td id=\"T_f6f1d_row2_col2\" class=\"data row2 col2\" >331.000000</td>\n",
       "      <td id=\"T_f6f1d_row2_col3\" class=\"data row2 col3\" >0.204700</td>\n",
       "      <td id=\"T_f6f1d_row2_col4\" class=\"data row2 col4\" >0.176400</td>\n",
       "    </tr>\n",
       "    <tr>\n",
       "      <th id=\"T_f6f1d_level0_row3\" class=\"row_heading level0 row3\" >3</th>\n",
       "      <td id=\"T_f6f1d_row3_col0\" class=\"data row3 col0\" >spades</td>\n",
       "      <td id=\"T_f6f1d_row3_col1\" class=\"data row3 col1\" >169.000000</td>\n",
       "      <td id=\"T_f6f1d_row3_col2\" class=\"data row3 col2\" >75.000000</td>\n",
       "      <td id=\"T_f6f1d_row3_col3\" class=\"data row3 col3\" >0.375400</td>\n",
       "      <td id=\"T_f6f1d_row3_col4\" class=\"data row3 col4\" >0.289700</td>\n",
       "    </tr>\n",
       "    <tr>\n",
       "      <th id=\"T_f6f1d_level0_row4\" class=\"row_heading level0 row4\" >4</th>\n",
       "      <td id=\"T_f6f1d_row4_col0\" class=\"data row4 col0\" >All</td>\n",
       "      <td id=\"T_f6f1d_row4_col1\" class=\"data row4 col1\" >670.000000</td>\n",
       "      <td id=\"T_f6f1d_row4_col2\" class=\"data row4 col2\" >917.000000</td>\n",
       "      <td id=\"T_f6f1d_row4_col3\" class=\"data row4 col3\" >0.265000</td>\n",
       "      <td id=\"T_f6f1d_row4_col4\" class=\"data row4 col4\" >0.231000</td>\n",
       "    </tr>\n",
       "  </tbody>\n",
       "</table>\n"
      ],
      "text/plain": [
       "<pandas.io.formats.style.Styler at 0x1b624ade3a0>"
      ]
     },
     "execution_count": 296,
     "metadata": {},
     "output_type": "execute_result"
    }
   ],
   "source": [
    "contracts_df.style.background_gradient(cmap='YlOrRd', axis=0)"
   ]
  },
  {
   "cell_type": "code",
   "execution_count": null,
   "id": "23a3706c",
   "metadata": {
    "ExecuteTime": {
     "end_time": "2022-03-21T07:47:25.317385Z",
     "start_time": "2022-03-21T07:47:25.249933Z"
    }
   },
   "outputs": [],
   "source": []
  },
  {
   "cell_type": "code",
   "execution_count": null,
   "id": "05593020",
   "metadata": {},
   "outputs": [],
   "source": []
  },
  {
   "cell_type": "markdown",
   "id": "65d3050e",
   "metadata": {
    "ExecuteTime": {
     "end_time": "2022-03-17T17:57:18.329754Z",
     "start_time": "2022-03-17T17:57:18.316635Z"
    }
   },
   "source": [
    "### Cash balances for each player\n",
    "##### Problem here! add market maker balances"
   ]
  },
  {
   "cell_type": "code",
   "execution_count": 135,
   "id": "76596519",
   "metadata": {
    "ExecuteTime": {
     "end_time": "2022-03-21T08:06:41.282391Z",
     "start_time": "2022-03-21T08:06:41.271393Z"
    }
   },
   "outputs": [],
   "source": [
    "players = [Isolde, Luke, Feyzi, Ben, Doruk]"
   ]
  },
  {
   "cell_type": "code",
   "execution_count": 149,
   "id": "b66fdae4",
   "metadata": {
    "ExecuteTime": {
     "end_time": "2022-03-21T08:10:29.029092Z",
     "start_time": "2022-03-21T08:10:29.015106Z"
    }
   },
   "outputs": [
    {
     "data": {
      "text/plain": [
       "array([  0.18, -11.47, -61.31,  -4.14, 110.74])"
      ]
     },
     "execution_count": 149,
     "metadata": {},
     "output_type": "execute_result"
    }
   ],
   "source": [
    "def calc_balance(df):\n",
    "    balance = 0\n",
    "    balance -= df[df[\"type\"] == \"buy\"][\"price\"].sum()\n",
    "    balance += df[df[\"type\"] == \"sell\"][\"price\"].sum()\n",
    "    return round(balance/100,2)\n",
    "\n",
    "balances = np.zeros(5)\n",
    "for i in range(len(players)):\n",
    "    balances[i] = calc_balance(players[i])\n",
    "balances"
   ]
  },
  {
   "cell_type": "markdown",
   "id": "da697434",
   "metadata": {
    "ExecuteTime": {
     "end_time": "2022-03-17T17:59:43.705060Z",
     "start_time": "2022-03-17T17:59:43.696061Z"
    }
   },
   "source": [
    "### Need to add marketmakers revenue "
   ]
  },
  {
   "cell_type": "code",
   "execution_count": 150,
   "id": "e5d0b63c",
   "metadata": {
    "ExecuteTime": {
     "end_time": "2022-03-21T08:10:39.381648Z",
     "start_time": "2022-03-21T08:10:39.366014Z"
    }
   },
   "outputs": [
    {
     "data": {
      "text/plain": [
       "array([ -9.54, -39.32, -26.85,  41.71,   0.  ])"
      ]
     },
     "execution_count": 150,
     "metadata": {},
     "output_type": "execute_result"
    }
   ],
   "source": [
    "maker_sums = np.zeros(5)\n",
    "\n",
    "for i in range(4):\n",
    "    temp = df[(df[\"market\"]== contracts[i]) & (df[\"type\"] == \"buy\")].price.sum()\n",
    "    temp -= df[(df[\"market\"]== contracts[i]) & (df[\"type\"] == \"sell\")].price.sum()\n",
    "    maker_sums[i] =  round(temp/100,2)\n",
    "\n",
    "maker_sums[4] = 0\n",
    "maker_sums"
   ]
  },
  {
   "cell_type": "code",
   "execution_count": 151,
   "id": "34155088",
   "metadata": {
    "ExecuteTime": {
     "end_time": "2022-03-21T08:10:51.426718Z",
     "start_time": "2022-03-21T08:10:51.412621Z"
    }
   },
   "outputs": [
    {
     "data": {
      "text/plain": [
       "array([ -9.36, -50.79, -88.16,  37.57, 110.74])"
      ]
     },
     "execution_count": 151,
     "metadata": {},
     "output_type": "execute_result"
    }
   ],
   "source": [
    "net_balances = np.zeros(5)\n",
    "for i in range(4):\n",
    "    net_balances[i] = round(maker_sums[i] + balances[i],2)\n",
    "    \n",
    "net_balances[4] = balances[4]\n",
    "net_balances"
   ]
  },
  {
   "cell_type": "code",
   "execution_count": 152,
   "id": "94215574",
   "metadata": {
    "ExecuteTime": {
     "end_time": "2022-03-21T08:10:58.608502Z",
     "start_time": "2022-03-21T08:10:58.594510Z"
    }
   },
   "outputs": [
    {
     "data": {
      "text/plain": [
       "array([  4.64, -31.79,   0.84, -56.43,  82.74])"
      ]
     },
     "execution_count": 152,
     "metadata": {},
     "output_type": "execute_result"
    }
   ],
   "source": [
    "grand_final = np.zeros(5)\n",
    "for i in range(5):\n",
    "    grand_final[i] = round(contract_balances_df.iloc[i,3] + net_balances[i],2)\n",
    "\n",
    "grand_final"
   ]
  },
  {
   "cell_type": "markdown",
   "id": "bfcee940",
   "metadata": {},
   "source": [
    "### Form into table "
   ]
  },
  {
   "cell_type": "code",
   "execution_count": 162,
   "id": "b4ad6949",
   "metadata": {
    "ExecuteTime": {
     "end_time": "2022-03-21T08:14:13.987422Z",
     "start_time": "2022-03-21T08:14:13.964701Z"
    }
   },
   "outputs": [
    {
     "data": {
      "text/html": [
       "<div>\n",
       "<style scoped>\n",
       "    .dataframe tbody tr th:only-of-type {\n",
       "        vertical-align: middle;\n",
       "    }\n",
       "\n",
       "    .dataframe tbody tr th {\n",
       "        vertical-align: top;\n",
       "    }\n",
       "\n",
       "    .dataframe thead th {\n",
       "        text-align: right;\n",
       "    }\n",
       "</style>\n",
       "<table border=\"1\" class=\"dataframe\">\n",
       "  <thead>\n",
       "    <tr style=\"text-align: right;\">\n",
       "      <th></th>\n",
       "      <th>Net Buy/Sell Balance</th>\n",
       "      <th>Market Maker Revenue</th>\n",
       "      <th>Balance</th>\n",
       "      <th>Final Balance</th>\n",
       "    </tr>\n",
       "    <tr>\n",
       "      <th>Player</th>\n",
       "      <th></th>\n",
       "      <th></th>\n",
       "      <th></th>\n",
       "      <th></th>\n",
       "    </tr>\n",
       "  </thead>\n",
       "  <tbody>\n",
       "    <tr>\n",
       "      <th>Isolde</th>\n",
       "      <td>0</td>\n",
       "      <td>0</td>\n",
       "      <td>0</td>\n",
       "      <td>0</td>\n",
       "    </tr>\n",
       "    <tr>\n",
       "      <th>Luke</th>\n",
       "      <td>0</td>\n",
       "      <td>0</td>\n",
       "      <td>0</td>\n",
       "      <td>0</td>\n",
       "    </tr>\n",
       "    <tr>\n",
       "      <th>Feyzi</th>\n",
       "      <td>0</td>\n",
       "      <td>0</td>\n",
       "      <td>0</td>\n",
       "      <td>0</td>\n",
       "    </tr>\n",
       "    <tr>\n",
       "      <th>Ben</th>\n",
       "      <td>0</td>\n",
       "      <td>0</td>\n",
       "      <td>0</td>\n",
       "      <td>0</td>\n",
       "    </tr>\n",
       "    <tr>\n",
       "      <th>Doruk</th>\n",
       "      <td>0</td>\n",
       "      <td>0</td>\n",
       "      <td>0</td>\n",
       "      <td>0</td>\n",
       "    </tr>\n",
       "  </tbody>\n",
       "</table>\n",
       "</div>"
      ],
      "text/plain": [
       "        Net Buy/Sell Balance  Market Maker Revenue  Balance  Final Balance\n",
       "Player                                                                    \n",
       "Isolde                     0                     0        0              0\n",
       "Luke                       0                     0        0              0\n",
       "Feyzi                      0                     0        0              0\n",
       "Ben                        0                     0        0              0\n",
       "Doruk                      0                     0        0              0"
      ]
     },
     "execution_count": 162,
     "metadata": {},
     "output_type": "execute_result"
    }
   ],
   "source": [
    "balances_dict = {\n",
    "    \"Player\": [\"Isolde\",\"Luke\",\"Feyzi\",\"Ben\",\"Doruk\"],\n",
    "    \"Net Buy/Sell Balance\": [0,0,0,0,0],\n",
    "    \"Market Maker Revenue\":[0,0,0,0,0],\n",
    "    \"Balance\":[0,0,0,0,0],\n",
    "    \"Final Balance\":[0,0,0,0,0],\n",
    "}\n",
    "balances_df = df.from_dict(balances_dict)\n",
    "balances_df.set_index(\"Player\",inplace=True)\n",
    "balances_df"
   ]
  },
  {
   "cell_type": "markdown",
   "id": "303b0367",
   "metadata": {},
   "source": [
    "#### Add data and format"
   ]
  },
  {
   "cell_type": "code",
   "execution_count": 165,
   "id": "6137b559",
   "metadata": {
    "ExecuteTime": {
     "end_time": "2022-03-21T08:14:25.501250Z",
     "start_time": "2022-03-21T08:14:25.487263Z"
    }
   },
   "outputs": [
    {
     "data": {
      "text/html": [
       "<div>\n",
       "<style scoped>\n",
       "    .dataframe tbody tr th:only-of-type {\n",
       "        vertical-align: middle;\n",
       "    }\n",
       "\n",
       "    .dataframe tbody tr th {\n",
       "        vertical-align: top;\n",
       "    }\n",
       "\n",
       "    .dataframe thead th {\n",
       "        text-align: right;\n",
       "    }\n",
       "</style>\n",
       "<table border=\"1\" class=\"dataframe\">\n",
       "  <thead>\n",
       "    <tr style=\"text-align: right;\">\n",
       "      <th></th>\n",
       "      <th>Net Buy/Sell Balance</th>\n",
       "      <th>Market Maker Revenue</th>\n",
       "      <th>Balance</th>\n",
       "      <th>Final Balance</th>\n",
       "      <th>Net Buy/Sell_Balance</th>\n",
       "      <th>Net Buy/SellBalance</th>\n",
       "    </tr>\n",
       "    <tr>\n",
       "      <th>Player</th>\n",
       "      <th></th>\n",
       "      <th></th>\n",
       "      <th></th>\n",
       "      <th></th>\n",
       "      <th></th>\n",
       "      <th></th>\n",
       "    </tr>\n",
       "  </thead>\n",
       "  <tbody>\n",
       "    <tr>\n",
       "      <th>Isolde</th>\n",
       "      <td>0</td>\n",
       "      <td>-9.54</td>\n",
       "      <td>-9.36</td>\n",
       "      <td>4.64</td>\n",
       "      <td>0.18</td>\n",
       "      <td>0.18</td>\n",
       "    </tr>\n",
       "    <tr>\n",
       "      <th>Luke</th>\n",
       "      <td>0</td>\n",
       "      <td>-39.32</td>\n",
       "      <td>-50.79</td>\n",
       "      <td>-31.79</td>\n",
       "      <td>-11.47</td>\n",
       "      <td>-11.47</td>\n",
       "    </tr>\n",
       "    <tr>\n",
       "      <th>Feyzi</th>\n",
       "      <td>0</td>\n",
       "      <td>-26.85</td>\n",
       "      <td>-88.16</td>\n",
       "      <td>0.84</td>\n",
       "      <td>-61.31</td>\n",
       "      <td>-61.31</td>\n",
       "    </tr>\n",
       "    <tr>\n",
       "      <th>Ben</th>\n",
       "      <td>0</td>\n",
       "      <td>41.71</td>\n",
       "      <td>37.57</td>\n",
       "      <td>-56.43</td>\n",
       "      <td>-4.14</td>\n",
       "      <td>-4.14</td>\n",
       "    </tr>\n",
       "    <tr>\n",
       "      <th>Doruk</th>\n",
       "      <td>0</td>\n",
       "      <td>0.00</td>\n",
       "      <td>110.74</td>\n",
       "      <td>82.74</td>\n",
       "      <td>110.74</td>\n",
       "      <td>110.74</td>\n",
       "    </tr>\n",
       "  </tbody>\n",
       "</table>\n",
       "</div>"
      ],
      "text/plain": [
       "        Net Buy/Sell Balance  Market Maker Revenue  Balance  Final Balance  \\\n",
       "Player                                                                       \n",
       "Isolde                     0                 -9.54    -9.36           4.64   \n",
       "Luke                       0                -39.32   -50.79         -31.79   \n",
       "Feyzi                      0                -26.85   -88.16           0.84   \n",
       "Ben                        0                 41.71    37.57         -56.43   \n",
       "Doruk                      0                  0.00   110.74          82.74   \n",
       "\n",
       "        Net Buy/Sell_Balance  Net Buy/SellBalance  \n",
       "Player                                             \n",
       "Isolde                  0.18                 0.18  \n",
       "Luke                  -11.47               -11.47  \n",
       "Feyzi                 -61.31               -61.31  \n",
       "Ben                    -4.14                -4.14  \n",
       "Doruk                 110.74               110.74  "
      ]
     },
     "execution_count": 165,
     "metadata": {},
     "output_type": "execute_result"
    }
   ],
   "source": [
    "\n",
    "balances_df.loc[:,\"Net Buy/SellBalance\"] = balances\n",
    "balances_df.loc[:,\"Market Maker Revenue\"] = maker_sums\n",
    "balances_df.loc[:,\"Balance\"] = net_balances\n",
    "balances_df.loc[:,\"Final Balance\"] = grand_final\n",
    "\n",
    "balances_df\n"
   ]
  },
  {
   "cell_type": "code",
   "execution_count": 166,
   "id": "93430064",
   "metadata": {
    "ExecuteTime": {
     "end_time": "2022-03-21T08:14:26.310970Z",
     "start_time": "2022-03-21T08:14:26.290570Z"
    }
   },
   "outputs": [
    {
     "data": {
      "text/html": [
       "<style type=\"text/css\">\n",
       "#T_ac86c_row0_col0, #T_ac86c_row1_col0, #T_ac86c_row1_col1, #T_ac86c_row2_col0, #T_ac86c_row2_col2, #T_ac86c_row2_col4, #T_ac86c_row2_col5, #T_ac86c_row3_col0, #T_ac86c_row3_col3, #T_ac86c_row4_col0 {\n",
       "  background-color: #ffffe5;\n",
       "  color: #000000;\n",
       "}\n",
       "#T_ac86c_row0_col1 {\n",
       "  background-color: #afde8f;\n",
       "  color: #000000;\n",
       "}\n",
       "#T_ac86c_row0_col2 {\n",
       "  background-color: #a4d98a;\n",
       "  color: #000000;\n",
       "}\n",
       "#T_ac86c_row0_col3 {\n",
       "  background-color: #92d183;\n",
       "  color: #000000;\n",
       "}\n",
       "#T_ac86c_row0_col4, #T_ac86c_row0_col5 {\n",
       "  background-color: #b3e091;\n",
       "  color: #000000;\n",
       "}\n",
       "#T_ac86c_row1_col2 {\n",
       "  background-color: #e8f6ae;\n",
       "  color: #000000;\n",
       "}\n",
       "#T_ac86c_row1_col3 {\n",
       "  background-color: #ebf7b0;\n",
       "  color: #000000;\n",
       "}\n",
       "#T_ac86c_row1_col4, #T_ac86c_row1_col5 {\n",
       "  background-color: #cbea9c;\n",
       "  color: #000000;\n",
       "}\n",
       "#T_ac86c_row2_col1 {\n",
       "  background-color: #f0f9b4;\n",
       "  color: #000000;\n",
       "}\n",
       "#T_ac86c_row2_col3 {\n",
       "  background-color: #9dd688;\n",
       "  color: #000000;\n",
       "}\n",
       "#T_ac86c_row3_col1, #T_ac86c_row4_col2, #T_ac86c_row4_col3, #T_ac86c_row4_col4, #T_ac86c_row4_col5 {\n",
       "  background-color: #004529;\n",
       "  color: #f1f1f1;\n",
       "}\n",
       "#T_ac86c_row3_col2 {\n",
       "  background-color: #3fa95c;\n",
       "  color: #f1f1f1;\n",
       "}\n",
       "#T_ac86c_row3_col4, #T_ac86c_row3_col5 {\n",
       "  background-color: #bce395;\n",
       "  color: #000000;\n",
       "}\n",
       "#T_ac86c_row4_col1 {\n",
       "  background-color: #7ec97b;\n",
       "  color: #000000;\n",
       "}\n",
       "</style>\n",
       "<table id=\"T_ac86c\">\n",
       "  <thead>\n",
       "    <tr>\n",
       "      <th class=\"blank level0\" >&nbsp;</th>\n",
       "      <th id=\"T_ac86c_level0_col0\" class=\"col_heading level0 col0\" >Net Buy/Sell Balance</th>\n",
       "      <th id=\"T_ac86c_level0_col1\" class=\"col_heading level0 col1\" >Market Maker Revenue</th>\n",
       "      <th id=\"T_ac86c_level0_col2\" class=\"col_heading level0 col2\" >Balance</th>\n",
       "      <th id=\"T_ac86c_level0_col3\" class=\"col_heading level0 col3\" >Final Balance</th>\n",
       "      <th id=\"T_ac86c_level0_col4\" class=\"col_heading level0 col4\" >Net Buy/Sell_Balance</th>\n",
       "      <th id=\"T_ac86c_level0_col5\" class=\"col_heading level0 col5\" >Net Buy/SellBalance</th>\n",
       "    </tr>\n",
       "    <tr>\n",
       "      <th class=\"index_name level0\" >Player</th>\n",
       "      <th class=\"blank col0\" >&nbsp;</th>\n",
       "      <th class=\"blank col1\" >&nbsp;</th>\n",
       "      <th class=\"blank col2\" >&nbsp;</th>\n",
       "      <th class=\"blank col3\" >&nbsp;</th>\n",
       "      <th class=\"blank col4\" >&nbsp;</th>\n",
       "      <th class=\"blank col5\" >&nbsp;</th>\n",
       "    </tr>\n",
       "  </thead>\n",
       "  <tbody>\n",
       "    <tr>\n",
       "      <th id=\"T_ac86c_level0_row0\" class=\"row_heading level0 row0\" >Isolde</th>\n",
       "      <td id=\"T_ac86c_row0_col0\" class=\"data row0 col0\" >0</td>\n",
       "      <td id=\"T_ac86c_row0_col1\" class=\"data row0 col1\" >-9.540000</td>\n",
       "      <td id=\"T_ac86c_row0_col2\" class=\"data row0 col2\" >-9.360000</td>\n",
       "      <td id=\"T_ac86c_row0_col3\" class=\"data row0 col3\" >4.640000</td>\n",
       "      <td id=\"T_ac86c_row0_col4\" class=\"data row0 col4\" >0.180000</td>\n",
       "      <td id=\"T_ac86c_row0_col5\" class=\"data row0 col5\" >0.180000</td>\n",
       "    </tr>\n",
       "    <tr>\n",
       "      <th id=\"T_ac86c_level0_row1\" class=\"row_heading level0 row1\" >Luke</th>\n",
       "      <td id=\"T_ac86c_row1_col0\" class=\"data row1 col0\" >0</td>\n",
       "      <td id=\"T_ac86c_row1_col1\" class=\"data row1 col1\" >-39.320000</td>\n",
       "      <td id=\"T_ac86c_row1_col2\" class=\"data row1 col2\" >-50.790000</td>\n",
       "      <td id=\"T_ac86c_row1_col3\" class=\"data row1 col3\" >-31.790000</td>\n",
       "      <td id=\"T_ac86c_row1_col4\" class=\"data row1 col4\" >-11.470000</td>\n",
       "      <td id=\"T_ac86c_row1_col5\" class=\"data row1 col5\" >-11.470000</td>\n",
       "    </tr>\n",
       "    <tr>\n",
       "      <th id=\"T_ac86c_level0_row2\" class=\"row_heading level0 row2\" >Feyzi</th>\n",
       "      <td id=\"T_ac86c_row2_col0\" class=\"data row2 col0\" >0</td>\n",
       "      <td id=\"T_ac86c_row2_col1\" class=\"data row2 col1\" >-26.850000</td>\n",
       "      <td id=\"T_ac86c_row2_col2\" class=\"data row2 col2\" >-88.160000</td>\n",
       "      <td id=\"T_ac86c_row2_col3\" class=\"data row2 col3\" >0.840000</td>\n",
       "      <td id=\"T_ac86c_row2_col4\" class=\"data row2 col4\" >-61.310000</td>\n",
       "      <td id=\"T_ac86c_row2_col5\" class=\"data row2 col5\" >-61.310000</td>\n",
       "    </tr>\n",
       "    <tr>\n",
       "      <th id=\"T_ac86c_level0_row3\" class=\"row_heading level0 row3\" >Ben</th>\n",
       "      <td id=\"T_ac86c_row3_col0\" class=\"data row3 col0\" >0</td>\n",
       "      <td id=\"T_ac86c_row3_col1\" class=\"data row3 col1\" >41.710000</td>\n",
       "      <td id=\"T_ac86c_row3_col2\" class=\"data row3 col2\" >37.570000</td>\n",
       "      <td id=\"T_ac86c_row3_col3\" class=\"data row3 col3\" >-56.430000</td>\n",
       "      <td id=\"T_ac86c_row3_col4\" class=\"data row3 col4\" >-4.140000</td>\n",
       "      <td id=\"T_ac86c_row3_col5\" class=\"data row3 col5\" >-4.140000</td>\n",
       "    </tr>\n",
       "    <tr>\n",
       "      <th id=\"T_ac86c_level0_row4\" class=\"row_heading level0 row4\" >Doruk</th>\n",
       "      <td id=\"T_ac86c_row4_col0\" class=\"data row4 col0\" >0</td>\n",
       "      <td id=\"T_ac86c_row4_col1\" class=\"data row4 col1\" >0.000000</td>\n",
       "      <td id=\"T_ac86c_row4_col2\" class=\"data row4 col2\" >110.740000</td>\n",
       "      <td id=\"T_ac86c_row4_col3\" class=\"data row4 col3\" >82.740000</td>\n",
       "      <td id=\"T_ac86c_row4_col4\" class=\"data row4 col4\" >110.740000</td>\n",
       "      <td id=\"T_ac86c_row4_col5\" class=\"data row4 col5\" >110.740000</td>\n",
       "    </tr>\n",
       "  </tbody>\n",
       "</table>\n"
      ],
      "text/plain": [
       "<pandas.io.formats.style.Styler at 0x1b6242af790>"
      ]
     },
     "execution_count": 166,
     "metadata": {},
     "output_type": "execute_result"
    }
   ],
   "source": [
    "balances_df.style.background_gradient(cmap='YlGn', axis=0)"
   ]
  },
  {
   "cell_type": "markdown",
   "id": "1fc3a702",
   "metadata": {},
   "source": [
    "### Number of trades by player "
   ]
  },
  {
   "cell_type": "code",
   "execution_count": 212,
   "id": "6debc53d",
   "metadata": {
    "ExecuteTime": {
     "end_time": "2022-03-21T08:26:20.483556Z",
     "start_time": "2022-03-21T08:26:20.473607Z"
    }
   },
   "outputs": [
    {
     "data": {
      "text/html": [
       "<div>\n",
       "<style scoped>\n",
       "    .dataframe tbody tr th:only-of-type {\n",
       "        vertical-align: middle;\n",
       "    }\n",
       "\n",
       "    .dataframe tbody tr th {\n",
       "        vertical-align: top;\n",
       "    }\n",
       "\n",
       "    .dataframe thead th {\n",
       "        text-align: right;\n",
       "    }\n",
       "</style>\n",
       "<table border=\"1\" class=\"dataframe\">\n",
       "  <thead>\n",
       "    <tr style=\"text-align: right;\">\n",
       "      <th></th>\n",
       "      <th>Player</th>\n",
       "      <th>#Buy_Orders</th>\n",
       "      <th>#Sell_Orders</th>\n",
       "      <th>Total_Orders</th>\n",
       "    </tr>\n",
       "  </thead>\n",
       "  <tbody>\n",
       "    <tr>\n",
       "      <th>0</th>\n",
       "      <td>Isolde</td>\n",
       "      <td>0</td>\n",
       "      <td>0</td>\n",
       "      <td>0</td>\n",
       "    </tr>\n",
       "    <tr>\n",
       "      <th>1</th>\n",
       "      <td>Luke</td>\n",
       "      <td>0</td>\n",
       "      <td>0</td>\n",
       "      <td>0</td>\n",
       "    </tr>\n",
       "    <tr>\n",
       "      <th>2</th>\n",
       "      <td>Feyzi</td>\n",
       "      <td>0</td>\n",
       "      <td>0</td>\n",
       "      <td>0</td>\n",
       "    </tr>\n",
       "    <tr>\n",
       "      <th>3</th>\n",
       "      <td>Ben</td>\n",
       "      <td>0</td>\n",
       "      <td>0</td>\n",
       "      <td>0</td>\n",
       "    </tr>\n",
       "    <tr>\n",
       "      <th>4</th>\n",
       "      <td>Doruk</td>\n",
       "      <td>0</td>\n",
       "      <td>0</td>\n",
       "      <td>0</td>\n",
       "    </tr>\n",
       "    <tr>\n",
       "      <th>5</th>\n",
       "      <td>All</td>\n",
       "      <td>0</td>\n",
       "      <td>0</td>\n",
       "      <td>0</td>\n",
       "    </tr>\n",
       "  </tbody>\n",
       "</table>\n",
       "</div>"
      ],
      "text/plain": [
       "   Player  #Buy_Orders  #Sell_Orders  Total_Orders\n",
       "0  Isolde            0             0             0\n",
       "1    Luke            0             0             0\n",
       "2   Feyzi            0             0             0\n",
       "3     Ben            0             0             0\n",
       "4   Doruk            0             0             0\n",
       "5     All            0             0             0"
      ]
     },
     "execution_count": 212,
     "metadata": {},
     "output_type": "execute_result"
    }
   ],
   "source": [
    "trade_dict = {\n",
    "    \"Player\": [\"Isolde\",\"Luke\",\"Feyzi\",\"Ben\",\"Doruk\",\"All\"],\n",
    "    \"#Buy_Orders\": [0,0,0,0,0,0],\n",
    "    \"#Sell_Orders\":[0,0,0,0,0,0],\n",
    "    \"Total_Orders\":[0,0,0,0,0,0],\n",
    "}\n",
    "\n",
    "trades_df = df.from_dict(trade_dict)\n",
    "trades_df"
   ]
  },
  {
   "cell_type": "code",
   "execution_count": 213,
   "id": "c609a80c",
   "metadata": {
    "ExecuteTime": {
     "end_time": "2022-03-21T08:26:20.673230Z",
     "start_time": "2022-03-21T08:26:20.653229Z"
    }
   },
   "outputs": [
    {
     "data": {
      "text/html": [
       "<div>\n",
       "<style scoped>\n",
       "    .dataframe tbody tr th:only-of-type {\n",
       "        vertical-align: middle;\n",
       "    }\n",
       "\n",
       "    .dataframe tbody tr th {\n",
       "        vertical-align: top;\n",
       "    }\n",
       "\n",
       "    .dataframe thead th {\n",
       "        text-align: right;\n",
       "    }\n",
       "</style>\n",
       "<table border=\"1\" class=\"dataframe\">\n",
       "  <thead>\n",
       "    <tr style=\"text-align: right;\">\n",
       "      <th></th>\n",
       "      <th>actor</th>\n",
       "      <th>type</th>\n",
       "    </tr>\n",
       "  </thead>\n",
       "  <tbody>\n",
       "    <tr>\n",
       "      <th>0</th>\n",
       "      <td>Feyzi</td>\n",
       "      <td>buy</td>\n",
       "    </tr>\n",
       "    <tr>\n",
       "      <th>1</th>\n",
       "      <td>Feyzi</td>\n",
       "      <td>buy</td>\n",
       "    </tr>\n",
       "    <tr>\n",
       "      <th>2</th>\n",
       "      <td>Feyzi</td>\n",
       "      <td>buy</td>\n",
       "    </tr>\n",
       "    <tr>\n",
       "      <th>3</th>\n",
       "      <td>Doruk</td>\n",
       "      <td>sell</td>\n",
       "    </tr>\n",
       "    <tr>\n",
       "      <th>4</th>\n",
       "      <td>Doruk</td>\n",
       "      <td>sell</td>\n",
       "    </tr>\n",
       "    <tr>\n",
       "      <th>...</th>\n",
       "      <td>...</td>\n",
       "      <td>...</td>\n",
       "    </tr>\n",
       "    <tr>\n",
       "      <th>1582</th>\n",
       "      <td>Doruk</td>\n",
       "      <td>sell</td>\n",
       "    </tr>\n",
       "    <tr>\n",
       "      <th>1583</th>\n",
       "      <td>Doruk</td>\n",
       "      <td>sell</td>\n",
       "    </tr>\n",
       "    <tr>\n",
       "      <th>1584</th>\n",
       "      <td>Doruk</td>\n",
       "      <td>sell</td>\n",
       "    </tr>\n",
       "    <tr>\n",
       "      <th>1585</th>\n",
       "      <td>Doruk</td>\n",
       "      <td>sell</td>\n",
       "    </tr>\n",
       "    <tr>\n",
       "      <th>1586</th>\n",
       "      <td>Doruk</td>\n",
       "      <td>sell</td>\n",
       "    </tr>\n",
       "  </tbody>\n",
       "</table>\n",
       "<p>1587 rows × 2 columns</p>\n",
       "</div>"
      ],
      "text/plain": [
       "      actor  type\n",
       "0     Feyzi   buy\n",
       "1     Feyzi   buy\n",
       "2     Feyzi   buy\n",
       "3     Doruk  sell\n",
       "4     Doruk  sell\n",
       "...     ...   ...\n",
       "1582  Doruk  sell\n",
       "1583  Doruk  sell\n",
       "1584  Doruk  sell\n",
       "1585  Doruk  sell\n",
       "1586  Doruk  sell\n",
       "\n",
       "[1587 rows x 2 columns]"
      ]
     },
     "execution_count": 213,
     "metadata": {},
     "output_type": "execute_result"
    }
   ],
   "source": [
    "temp_df = df.drop([\"market\", \"round\",\"price\"],axis=1)\n",
    "temp_df"
   ]
  },
  {
   "cell_type": "code",
   "execution_count": 214,
   "id": "54ce4f14",
   "metadata": {
    "ExecuteTime": {
     "end_time": "2022-03-21T08:26:20.829923Z",
     "start_time": "2022-03-21T08:26:20.805911Z"
    }
   },
   "outputs": [],
   "source": [
    "buys_by_player = np.zeros(6)\n",
    "sells_by_player = np.zeros(6)\n",
    "totals_by_player = np.zeros(6)\n",
    "for i in range(5):\n",
    "    buys_by_player[i] = temp_df[ ( temp_df[\"actor\"] == actors[i]) & (temp_df[\"type\"] == \"buy\")].shape[0]\n",
    "    sells_by_player[i] = temp_df[ ( temp_df[\"actor\"] == actors[i]) & (temp_df[\"type\"] == \"sell\")].shape[0]\n",
    "    totals_by_player[i] = buys_by_player[i]  + sells_by_player[i]\n",
    "\n",
    "buys_by_player[5] = buys_by_player.sum()\n",
    "sells_by_player[5] = sells_by_player.sum()\n",
    "totals_by_player[5] = totals_by_player.sum()"
   ]
  },
  {
   "cell_type": "code",
   "execution_count": 218,
   "id": "ecaa0998",
   "metadata": {
    "ExecuteTime": {
     "end_time": "2022-03-21T08:26:35.644192Z",
     "start_time": "2022-03-21T08:26:35.640668Z"
    }
   },
   "outputs": [],
   "source": [
    "trades_df.loc[:,\"#Buy_Orders\"] = buys_by_player\n",
    "trades_df.loc[:,\"#Sell_Orders\"] = sells_by_player\n",
    "trades_df.loc[:,\"Total_Orders\"] = totals_by_player"
   ]
  },
  {
   "cell_type": "code",
   "execution_count": 219,
   "id": "60409cae",
   "metadata": {
    "ExecuteTime": {
     "end_time": "2022-03-21T08:26:35.978610Z",
     "start_time": "2022-03-21T08:26:35.965610Z"
    }
   },
   "outputs": [
    {
     "data": {
      "text/html": [
       "<div>\n",
       "<style scoped>\n",
       "    .dataframe tbody tr th:only-of-type {\n",
       "        vertical-align: middle;\n",
       "    }\n",
       "\n",
       "    .dataframe tbody tr th {\n",
       "        vertical-align: top;\n",
       "    }\n",
       "\n",
       "    .dataframe thead th {\n",
       "        text-align: right;\n",
       "    }\n",
       "</style>\n",
       "<table border=\"1\" class=\"dataframe\">\n",
       "  <thead>\n",
       "    <tr style=\"text-align: right;\">\n",
       "      <th></th>\n",
       "      <th>Player</th>\n",
       "      <th>#Buy_Orders</th>\n",
       "      <th>#Sell_Orders</th>\n",
       "      <th>Total_Orders</th>\n",
       "    </tr>\n",
       "  </thead>\n",
       "  <tbody>\n",
       "    <tr>\n",
       "      <th>0</th>\n",
       "      <td>Isolde</td>\n",
       "      <td>80.0</td>\n",
       "      <td>119.0</td>\n",
       "      <td>199.0</td>\n",
       "    </tr>\n",
       "    <tr>\n",
       "      <th>1</th>\n",
       "      <td>Luke</td>\n",
       "      <td>109.0</td>\n",
       "      <td>65.0</td>\n",
       "      <td>174.0</td>\n",
       "    </tr>\n",
       "    <tr>\n",
       "      <th>2</th>\n",
       "      <td>Feyzi</td>\n",
       "      <td>343.0</td>\n",
       "      <td>101.0</td>\n",
       "      <td>444.0</td>\n",
       "    </tr>\n",
       "    <tr>\n",
       "      <th>3</th>\n",
       "      <td>Ben</td>\n",
       "      <td>106.0</td>\n",
       "      <td>56.0</td>\n",
       "      <td>162.0</td>\n",
       "    </tr>\n",
       "    <tr>\n",
       "      <th>4</th>\n",
       "      <td>Doruk</td>\n",
       "      <td>32.0</td>\n",
       "      <td>576.0</td>\n",
       "      <td>608.0</td>\n",
       "    </tr>\n",
       "    <tr>\n",
       "      <th>5</th>\n",
       "      <td>All</td>\n",
       "      <td>670.0</td>\n",
       "      <td>917.0</td>\n",
       "      <td>1587.0</td>\n",
       "    </tr>\n",
       "  </tbody>\n",
       "</table>\n",
       "</div>"
      ],
      "text/plain": [
       "   Player  #Buy_Orders  #Sell_Orders  Total_Orders\n",
       "0  Isolde         80.0         119.0         199.0\n",
       "1    Luke        109.0          65.0         174.0\n",
       "2   Feyzi        343.0         101.0         444.0\n",
       "3     Ben        106.0          56.0         162.0\n",
       "4   Doruk         32.0         576.0         608.0\n",
       "5     All        670.0         917.0        1587.0"
      ]
     },
     "execution_count": 219,
     "metadata": {},
     "output_type": "execute_result"
    }
   ],
   "source": [
    "trades_df"
   ]
  },
  {
   "cell_type": "code",
   "execution_count": 245,
   "id": "310be715",
   "metadata": {
    "ExecuteTime": {
     "end_time": "2022-03-21T08:56:24.238915Z",
     "start_time": "2022-03-21T08:56:24.223832Z"
    }
   },
   "outputs": [
    {
     "data": {
      "text/html": [
       "<style type=\"text/css\">\n",
       "#T_28820_row0_col1 {\n",
       "  background-color: #feeed7;\n",
       "  color: #000000;\n",
       "}\n",
       "#T_28820_row0_col2 {\n",
       "  background-color: #feefd8;\n",
       "  color: #000000;\n",
       "}\n",
       "#T_28820_row0_col3 {\n",
       "  background-color: #fff4e5;\n",
       "  color: #000000;\n",
       "}\n",
       "#T_28820_row1_col1 {\n",
       "  background-color: #fee9ca;\n",
       "  color: #000000;\n",
       "}\n",
       "#T_28820_row1_col2, #T_28820_row1_col3 {\n",
       "  background-color: #fff6ea;\n",
       "  color: #000000;\n",
       "}\n",
       "#T_28820_row2_col1 {\n",
       "  background-color: #fc925e;\n",
       "  color: #000000;\n",
       "}\n",
       "#T_28820_row2_col2 {\n",
       "  background-color: #fff1dd;\n",
       "  color: #000000;\n",
       "}\n",
       "#T_28820_row2_col3 {\n",
       "  background-color: #fdddb0;\n",
       "  color: #000000;\n",
       "}\n",
       "#T_28820_row3_col1 {\n",
       "  background-color: #fee9cb;\n",
       "  color: #000000;\n",
       "}\n",
       "#T_28820_row3_col2, #T_28820_row3_col3, #T_28820_row4_col1 {\n",
       "  background-color: #fff7ec;\n",
       "  color: #000000;\n",
       "}\n",
       "#T_28820_row4_col2 {\n",
       "  background-color: #f16c4b;\n",
       "  color: #f1f1f1;\n",
       "}\n",
       "#T_28820_row4_col3 {\n",
       "  background-color: #fdc791;\n",
       "  color: #000000;\n",
       "}\n",
       "#T_28820_row5_col1, #T_28820_row5_col2, #T_28820_row5_col3 {\n",
       "  background-color: #7f0000;\n",
       "  color: #f1f1f1;\n",
       "}\n",
       "</style>\n",
       "<table id=\"T_28820\">\n",
       "  <thead>\n",
       "    <tr>\n",
       "      <th class=\"blank level0\" >&nbsp;</th>\n",
       "      <th id=\"T_28820_level0_col0\" class=\"col_heading level0 col0\" >Player</th>\n",
       "      <th id=\"T_28820_level0_col1\" class=\"col_heading level0 col1\" >#Buy_Orders</th>\n",
       "      <th id=\"T_28820_level0_col2\" class=\"col_heading level0 col2\" >#Sell_Orders</th>\n",
       "      <th id=\"T_28820_level0_col3\" class=\"col_heading level0 col3\" >Total_Orders</th>\n",
       "    </tr>\n",
       "  </thead>\n",
       "  <tbody>\n",
       "    <tr>\n",
       "      <th id=\"T_28820_level0_row0\" class=\"row_heading level0 row0\" >0</th>\n",
       "      <td id=\"T_28820_row0_col0\" class=\"data row0 col0\" >Isolde</td>\n",
       "      <td id=\"T_28820_row0_col1\" class=\"data row0 col1\" >80.000000</td>\n",
       "      <td id=\"T_28820_row0_col2\" class=\"data row0 col2\" >119.000000</td>\n",
       "      <td id=\"T_28820_row0_col3\" class=\"data row0 col3\" >199.000000</td>\n",
       "    </tr>\n",
       "    <tr>\n",
       "      <th id=\"T_28820_level0_row1\" class=\"row_heading level0 row1\" >1</th>\n",
       "      <td id=\"T_28820_row1_col0\" class=\"data row1 col0\" >Luke</td>\n",
       "      <td id=\"T_28820_row1_col1\" class=\"data row1 col1\" >109.000000</td>\n",
       "      <td id=\"T_28820_row1_col2\" class=\"data row1 col2\" >65.000000</td>\n",
       "      <td id=\"T_28820_row1_col3\" class=\"data row1 col3\" >174.000000</td>\n",
       "    </tr>\n",
       "    <tr>\n",
       "      <th id=\"T_28820_level0_row2\" class=\"row_heading level0 row2\" >2</th>\n",
       "      <td id=\"T_28820_row2_col0\" class=\"data row2 col0\" >Feyzi</td>\n",
       "      <td id=\"T_28820_row2_col1\" class=\"data row2 col1\" >343.000000</td>\n",
       "      <td id=\"T_28820_row2_col2\" class=\"data row2 col2\" >101.000000</td>\n",
       "      <td id=\"T_28820_row2_col3\" class=\"data row2 col3\" >444.000000</td>\n",
       "    </tr>\n",
       "    <tr>\n",
       "      <th id=\"T_28820_level0_row3\" class=\"row_heading level0 row3\" >3</th>\n",
       "      <td id=\"T_28820_row3_col0\" class=\"data row3 col0\" >Ben</td>\n",
       "      <td id=\"T_28820_row3_col1\" class=\"data row3 col1\" >106.000000</td>\n",
       "      <td id=\"T_28820_row3_col2\" class=\"data row3 col2\" >56.000000</td>\n",
       "      <td id=\"T_28820_row3_col3\" class=\"data row3 col3\" >162.000000</td>\n",
       "    </tr>\n",
       "    <tr>\n",
       "      <th id=\"T_28820_level0_row4\" class=\"row_heading level0 row4\" >4</th>\n",
       "      <td id=\"T_28820_row4_col0\" class=\"data row4 col0\" >Doruk</td>\n",
       "      <td id=\"T_28820_row4_col1\" class=\"data row4 col1\" >32.000000</td>\n",
       "      <td id=\"T_28820_row4_col2\" class=\"data row4 col2\" >576.000000</td>\n",
       "      <td id=\"T_28820_row4_col3\" class=\"data row4 col3\" >608.000000</td>\n",
       "    </tr>\n",
       "    <tr>\n",
       "      <th id=\"T_28820_level0_row5\" class=\"row_heading level0 row5\" >5</th>\n",
       "      <td id=\"T_28820_row5_col0\" class=\"data row5 col0\" >All</td>\n",
       "      <td id=\"T_28820_row5_col1\" class=\"data row5 col1\" >670.000000</td>\n",
       "      <td id=\"T_28820_row5_col2\" class=\"data row5 col2\" >917.000000</td>\n",
       "      <td id=\"T_28820_row5_col3\" class=\"data row5 col3\" >1587.000000</td>\n",
       "    </tr>\n",
       "  </tbody>\n",
       "</table>\n"
      ],
      "text/plain": [
       "<pandas.io.formats.style.Styler at 0x1b6249bc820>"
      ]
     },
     "execution_count": 245,
     "metadata": {},
     "output_type": "execute_result"
    }
   ],
   "source": [
    "trades_df.loc[0:5,:].style.background_gradient(cmap='OrRd', axis=0)"
   ]
  },
  {
   "cell_type": "code",
   "execution_count": null,
   "id": "6e753a6f",
   "metadata": {},
   "outputs": [],
   "source": []
  }
 ],
 "metadata": {
  "kernelspec": {
   "display_name": "Python 3 (ipykernel)",
   "language": "python",
   "name": "python3"
  },
  "language_info": {
   "codemirror_mode": {
    "name": "ipython",
    "version": 3
   },
   "file_extension": ".py",
   "mimetype": "text/x-python",
   "name": "python",
   "nbconvert_exporter": "python",
   "pygments_lexer": "ipython3",
   "version": "3.8.12"
  }
 },
 "nbformat": 4,
 "nbformat_minor": 5
}
