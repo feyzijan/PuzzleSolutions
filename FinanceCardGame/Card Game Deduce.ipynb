{
 "cells": [
  {
   "cell_type": "code",
   "execution_count": 1,
   "id": "6340731a",
   "metadata": {
    "ExecuteTime": {
     "end_time": "2022-03-08T15:47:38.785176Z",
     "start_time": "2022-03-08T15:47:38.422176Z"
    }
   },
   "outputs": [],
   "source": [
    "import pandas as pd\n",
    "import numpy as np"
   ]
  },
  {
   "cell_type": "code",
   "execution_count": 2,
   "id": "589a58bc",
   "metadata": {
    "ExecuteTime": {
     "end_time": "2022-03-08T15:47:38.817176Z",
     "start_time": "2022-03-08T15:47:38.797178Z"
    }
   },
   "outputs": [
    {
     "data": {
      "text/html": [
       "<div>\n",
       "<style scoped>\n",
       "    .dataframe tbody tr th:only-of-type {\n",
       "        vertical-align: middle;\n",
       "    }\n",
       "\n",
       "    .dataframe tbody tr th {\n",
       "        vertical-align: top;\n",
       "    }\n",
       "\n",
       "    .dataframe thead th {\n",
       "        text-align: right;\n",
       "    }\n",
       "</style>\n",
       "<table border=\"1\" class=\"dataframe\">\n",
       "  <thead>\n",
       "    <tr style=\"text-align: right;\">\n",
       "      <th></th>\n",
       "      <th>Prob</th>\n",
       "      <th>Heart</th>\n",
       "      <th>Diamond</th>\n",
       "      <th>Club</th>\n",
       "      <th>Spade</th>\n",
       "      <th>Sum</th>\n",
       "    </tr>\n",
       "  </thead>\n",
       "  <tbody>\n",
       "    <tr>\n",
       "      <th>Contract:Heart</th>\n",
       "      <td>0.0</td>\n",
       "      <td>0.0</td>\n",
       "      <td>0.0</td>\n",
       "      <td>0.0</td>\n",
       "      <td>0.0</td>\n",
       "      <td>0.0</td>\n",
       "    </tr>\n",
       "    <tr>\n",
       "      <th>Contract: Diamond</th>\n",
       "      <td>0.0</td>\n",
       "      <td>0.0</td>\n",
       "      <td>0.0</td>\n",
       "      <td>0.0</td>\n",
       "      <td>0.0</td>\n",
       "      <td>0.0</td>\n",
       "    </tr>\n",
       "    <tr>\n",
       "      <th>Contract:Club</th>\n",
       "      <td>0.0</td>\n",
       "      <td>0.0</td>\n",
       "      <td>0.0</td>\n",
       "      <td>0.0</td>\n",
       "      <td>0.0</td>\n",
       "      <td>0.0</td>\n",
       "    </tr>\n",
       "    <tr>\n",
       "      <th>Contract:Spade</th>\n",
       "      <td>0.0</td>\n",
       "      <td>0.0</td>\n",
       "      <td>0.0</td>\n",
       "      <td>0.0</td>\n",
       "      <td>0.0</td>\n",
       "      <td>0.0</td>\n",
       "    </tr>\n",
       "  </tbody>\n",
       "</table>\n",
       "</div>"
      ],
      "text/plain": [
       "                   Prob  Heart  Diamond  Club  Spade  Sum\n",
       "Contract:Heart      0.0    0.0      0.0   0.0    0.0  0.0\n",
       "Contract: Diamond   0.0    0.0      0.0   0.0    0.0  0.0\n",
       "Contract:Club       0.0    0.0      0.0   0.0    0.0  0.0\n",
       "Contract:Spade      0.0    0.0      0.0   0.0    0.0  0.0"
      ]
     },
     "execution_count": 2,
     "metadata": {},
     "output_type": "execute_result"
    }
   ],
   "source": [
    "cols = [\"Prob\",\"Heart\", \"Diamond\", \"Club\", \"Spade\", \"Sum\"]\n",
    "my_index = [\"Contract:Heart\", \"Contract: Diamond\", \"Contract:Club\",\"Contract:Spade\"]\n",
    "df = pd.DataFrame(np.zeros((4,6)),columns=cols,index=my_index)\n",
    "df.head()"
   ]
  },
  {
   "cell_type": "code",
   "execution_count": 3,
   "id": "bbec4497",
   "metadata": {
    "ExecuteTime": {
     "end_time": "2022-03-08T15:47:41.642031Z",
     "start_time": "2022-03-08T15:47:41.624048Z"
    }
   },
   "outputs": [],
   "source": [
    "def get_public_cards():\n",
    "    num_heart = int(input(\"# of public revealed hearts: \"))\n",
    "    num_diamond = int(input(\"# of public revealed diamond: \"))\n",
    "    num_club = int(input(\"# of public revealed club: \"))\n",
    "    num_spade = int(input(\"# of public revealed spade: \"))\n",
    "    cards = [num_heart, num_diamond, num_club, num_spade]\n",
    "    return cards"
   ]
  },
  {
   "cell_type": "code",
   "execution_count": 4,
   "id": "f141bb84",
   "metadata": {
    "ExecuteTime": {
     "end_time": "2022-03-08T15:47:41.923261Z",
     "start_time": "2022-03-08T15:47:41.916260Z"
    }
   },
   "outputs": [],
   "source": [
    "def get_contracts(df):\n",
    "    mid_heart = float(input(\"MidPrice of heart contract: \"))\n",
    "    mid_diamond = float(input(\"MidPrice of diamond contract:  \"))\n",
    "    mid_club = float(input(\"MidPrice of club contract: \"))\n",
    "    mid_spade = float(input(\"MidPrice of spade contract: \"))\n",
    "    hand = int(input(\"How many cards are in your hand? \"))\n",
    "    df[\"Prob\"] = [mid_heart, mid_diamond, mid_club, mid_spade]\n",
    "    return hand"
   ]
  },
  {
   "cell_type": "code",
   "execution_count": 5,
   "id": "85d73934",
   "metadata": {
    "ExecuteTime": {
     "end_time": "2022-03-08T15:47:44.330425Z",
     "start_time": "2022-03-08T15:47:44.320441Z"
    }
   },
   "outputs": [],
   "source": [
    "def calc_hands(df,hand):\n",
    "    for i in range(4):\n",
    "        df.iloc[i,i+1] = ( (df.iloc[i,0] * (52- hand - sum(cards))) - 13 + cards[i]) * -1"
   ]
  },
  {
   "cell_type": "markdown",
   "id": "c42bae38",
   "metadata": {},
   "source": [
    "## Run  "
   ]
  },
  {
   "cell_type": "code",
   "execution_count": 14,
   "id": "e947c8a0",
   "metadata": {
    "ExecuteTime": {
     "end_time": "2022-03-08T16:27:29.749753Z",
     "start_time": "2022-03-08T16:27:04.746379Z"
    }
   },
   "outputs": [
    {
     "name": "stdout",
     "output_type": "stream",
     "text": [
      "# of public revealed hearts: 6\n",
      "# of public revealed diamond: 8\n",
      "# of public revealed club: 5\n",
      "# of public revealed spade: 10\n",
      "MidPrice of heart contract: 0.28\n",
      "MidPrice of diamond contract:  0.26\n",
      "MidPrice of club contract: 0.29\n",
      "MidPrice of spade contract: 0.09\n",
      "How many cards are in your hand? 2\n"
     ]
    }
   ],
   "source": [
    "cards = get_public_cards()\n",
    "hand = get_contracts(df)\n",
    "calc_hands(df,hand)"
   ]
  },
  {
   "cell_type": "code",
   "execution_count": 15,
   "id": "09c292fd",
   "metadata": {
    "ExecuteTime": {
     "end_time": "2022-03-08T16:27:31.468298Z",
     "start_time": "2022-03-08T16:27:31.459312Z"
    }
   },
   "outputs": [
    {
     "name": "stdout",
     "output_type": "stream",
     "text": [
      "[6, 8, 5, 10]\n"
     ]
    },
    {
     "data": {
      "text/html": [
       "<div>\n",
       "<style scoped>\n",
       "    .dataframe tbody tr th:only-of-type {\n",
       "        vertical-align: middle;\n",
       "    }\n",
       "\n",
       "    .dataframe tbody tr th {\n",
       "        vertical-align: top;\n",
       "    }\n",
       "\n",
       "    .dataframe thead th {\n",
       "        text-align: right;\n",
       "    }\n",
       "</style>\n",
       "<table border=\"1\" class=\"dataframe\">\n",
       "  <thead>\n",
       "    <tr style=\"text-align: right;\">\n",
       "      <th></th>\n",
       "      <th>Prob</th>\n",
       "      <th>Heart</th>\n",
       "      <th>Diamond</th>\n",
       "      <th>Club</th>\n",
       "      <th>Spade</th>\n",
       "      <th>Sum</th>\n",
       "    </tr>\n",
       "  </thead>\n",
       "  <tbody>\n",
       "    <tr>\n",
       "      <th>Contract:Heart</th>\n",
       "      <td>0.28</td>\n",
       "      <td>1.12</td>\n",
       "      <td>0.00</td>\n",
       "      <td>0.00</td>\n",
       "      <td>0.00</td>\n",
       "      <td>0.0</td>\n",
       "    </tr>\n",
       "    <tr>\n",
       "      <th>Contract: Diamond</th>\n",
       "      <td>0.26</td>\n",
       "      <td>0.00</td>\n",
       "      <td>-0.46</td>\n",
       "      <td>0.00</td>\n",
       "      <td>0.00</td>\n",
       "      <td>0.0</td>\n",
       "    </tr>\n",
       "    <tr>\n",
       "      <th>Contract:Club</th>\n",
       "      <td>0.29</td>\n",
       "      <td>0.00</td>\n",
       "      <td>0.00</td>\n",
       "      <td>1.91</td>\n",
       "      <td>0.00</td>\n",
       "      <td>0.0</td>\n",
       "    </tr>\n",
       "    <tr>\n",
       "      <th>Contract:Spade</th>\n",
       "      <td>0.09</td>\n",
       "      <td>0.00</td>\n",
       "      <td>0.00</td>\n",
       "      <td>0.00</td>\n",
       "      <td>1.11</td>\n",
       "      <td>0.0</td>\n",
       "    </tr>\n",
       "  </tbody>\n",
       "</table>\n",
       "</div>"
      ],
      "text/plain": [
       "                   Prob  Heart  Diamond  Club  Spade  Sum\n",
       "Contract:Heart     0.28   1.12     0.00  0.00   0.00  0.0\n",
       "Contract: Diamond  0.26   0.00    -0.46  0.00   0.00  0.0\n",
       "Contract:Club      0.29   0.00     0.00  1.91   0.00  0.0\n",
       "Contract:Spade     0.09   0.00     0.00  0.00   1.11  0.0"
      ]
     },
     "execution_count": 15,
     "metadata": {},
     "output_type": "execute_result"
    }
   ],
   "source": [
    "print(cards)\n",
    "#print(\"Hand card#\", hand)\n",
    "df"
   ]
  },
  {
   "cell_type": "markdown",
   "id": "2b3f4459",
   "metadata": {},
   "source": [
    "## Proceed to run the model hence"
   ]
  },
  {
   "cell_type": "code",
   "execution_count": null,
   "id": "d2f4997c",
   "metadata": {},
   "outputs": [],
   "source": []
  }
 ],
 "metadata": {
  "kernelspec": {
   "display_name": "Python 3.9.6 64-bit",
   "language": "python",
   "name": "python3"
  },
  "language_info": {
   "codemirror_mode": {
    "name": "ipython",
    "version": 3
   },
   "file_extension": ".py",
   "mimetype": "text/x-python",
   "name": "python",
   "nbconvert_exporter": "python",
   "pygments_lexer": "ipython3",
   "version": "3.9.6"
  },
  "vscode": {
   "interpreter": {
    "hash": "88253bda05a853a3e2e108eae53f17c1fe54d0ccc1565ef6af417baa30d1e2de"
   }
  }
 },
 "nbformat": 4,
 "nbformat_minor": 5
}
