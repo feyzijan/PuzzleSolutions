{
 "cells": [
  {
   "cell_type": "markdown",
   "id": "40f77ae1",
   "metadata": {},
   "source": [
    "# Make best use of available info "
   ]
  },
  {
   "cell_type": "markdown",
   "id": "2b60c97f",
   "metadata": {},
   "source": [
    "Revealed card counts"
   ]
  },
  {
   "cell_type": "code",
   "execution_count": 1,
   "id": "cd807cf5",
   "metadata": {
    "ExecuteTime": {
     "end_time": "2022-03-21T09:36:12.833208Z",
     "start_time": "2022-03-21T09:36:12.472140Z"
    }
   },
   "outputs": [],
   "source": [
    "import pandas as pd\n",
    "import numpy as np"
   ]
  },
  {
   "cell_type": "code",
   "execution_count": 2,
   "id": "67b8ba6d",
   "metadata": {
    "ExecuteTime": {
     "end_time": "2022-03-21T09:36:12.849022Z",
     "start_time": "2022-03-21T09:36:12.833208Z"
    }
   },
   "outputs": [],
   "source": [
    "cols = [\"Heart\", \"Diamond\", \"Club\", \"Spade\", \"Sum\", \"P-Heart\",\"P-Diamond\", \"P-Club\", \"P-spade\"]\n",
    "df = pd.DataFrame(np.zeros((40,9)),columns=cols)\n",
    "df.head()\n",
    "\n",
    "index = 1\n",
    "\n",
    "def initialize_df(df):\n",
    "    for i in range(4):\n",
    "        df.iloc[0,i] = int(input(f\"# of {cols[i]}\"))\n",
    "        \n",
    "    df.iloc[0,4] = sum(df.iloc[0,[0,1,2,3]])\n",
    "    \n",
    "    for i in range(5,9):\n",
    "        df.iloc[0,i] = (13 - df.iloc[0,i-5])/ (52- df[\"Sum\"][0])\n",
    "\n",
    "def update_df(df):\n",
    "    global index\n",
    "    for i in range(4):\n",
    "        df.iloc[index,i] = int(input(f\"# of revealed {cols[i]}:  \")) + df.iloc[index-1,i]\n",
    "        \n",
    "    df.iloc[index,4] = sum(df.iloc[index,[0,1,2,3]])\n",
    "    \n",
    "    for i in range(5,9):\n",
    "        df.iloc[index,i] = (13 - df.iloc[index,i-5])/ (52- df.iloc[index,4])\n",
    "    \n",
    "    index +=1"
   ]
  },
  {
   "cell_type": "markdown",
   "id": "27e5be7a",
   "metadata": {},
   "source": [
    "### Initialise\n",
    "Write the total number of cards revealed to you"
   ]
  },
  {
   "cell_type": "code",
   "execution_count": 3,
   "id": "08079044",
   "metadata": {
    "ExecuteTime": {
     "end_time": "2022-03-21T09:36:20.029644Z",
     "start_time": "2022-03-21T09:36:14.530480Z"
    }
   },
   "outputs": [
    {
     "name": "stdout",
     "output_type": "stream",
     "text": [
      "# of Heart2\n",
      "# of Diamond3\n",
      "# of Club2\n",
      "# of Spade1\n"
     ]
    },
    {
     "data": {
      "text/html": [
       "<div>\n",
       "<style scoped>\n",
       "    .dataframe tbody tr th:only-of-type {\n",
       "        vertical-align: middle;\n",
       "    }\n",
       "\n",
       "    .dataframe tbody tr th {\n",
       "        vertical-align: top;\n",
       "    }\n",
       "\n",
       "    .dataframe thead th {\n",
       "        text-align: right;\n",
       "    }\n",
       "</style>\n",
       "<table border=\"1\" class=\"dataframe\">\n",
       "  <thead>\n",
       "    <tr style=\"text-align: right;\">\n",
       "      <th></th>\n",
       "      <th>Heart</th>\n",
       "      <th>Diamond</th>\n",
       "      <th>Club</th>\n",
       "      <th>Spade</th>\n",
       "      <th>Sum</th>\n",
       "      <th>P-Heart</th>\n",
       "      <th>P-Diamond</th>\n",
       "      <th>P-Club</th>\n",
       "      <th>P-spade</th>\n",
       "    </tr>\n",
       "  </thead>\n",
       "  <tbody>\n",
       "    <tr>\n",
       "      <th>0</th>\n",
       "      <td>2.0</td>\n",
       "      <td>3.0</td>\n",
       "      <td>2.0</td>\n",
       "      <td>1.0</td>\n",
       "      <td>8.0</td>\n",
       "      <td>0.25</td>\n",
       "      <td>0.227273</td>\n",
       "      <td>0.25</td>\n",
       "      <td>0.272727</td>\n",
       "    </tr>\n",
       "    <tr>\n",
       "      <th>1</th>\n",
       "      <td>0.0</td>\n",
       "      <td>0.0</td>\n",
       "      <td>0.0</td>\n",
       "      <td>0.0</td>\n",
       "      <td>0.0</td>\n",
       "      <td>0.00</td>\n",
       "      <td>0.000000</td>\n",
       "      <td>0.00</td>\n",
       "      <td>0.000000</td>\n",
       "    </tr>\n",
       "    <tr>\n",
       "      <th>2</th>\n",
       "      <td>0.0</td>\n",
       "      <td>0.0</td>\n",
       "      <td>0.0</td>\n",
       "      <td>0.0</td>\n",
       "      <td>0.0</td>\n",
       "      <td>0.00</td>\n",
       "      <td>0.000000</td>\n",
       "      <td>0.00</td>\n",
       "      <td>0.000000</td>\n",
       "    </tr>\n",
       "    <tr>\n",
       "      <th>3</th>\n",
       "      <td>0.0</td>\n",
       "      <td>0.0</td>\n",
       "      <td>0.0</td>\n",
       "      <td>0.0</td>\n",
       "      <td>0.0</td>\n",
       "      <td>0.00</td>\n",
       "      <td>0.000000</td>\n",
       "      <td>0.00</td>\n",
       "      <td>0.000000</td>\n",
       "    </tr>\n",
       "    <tr>\n",
       "      <th>4</th>\n",
       "      <td>0.0</td>\n",
       "      <td>0.0</td>\n",
       "      <td>0.0</td>\n",
       "      <td>0.0</td>\n",
       "      <td>0.0</td>\n",
       "      <td>0.00</td>\n",
       "      <td>0.000000</td>\n",
       "      <td>0.00</td>\n",
       "      <td>0.000000</td>\n",
       "    </tr>\n",
       "  </tbody>\n",
       "</table>\n",
       "</div>"
      ],
      "text/plain": [
       "   Heart  Diamond  Club  Spade  Sum  P-Heart  P-Diamond  P-Club   P-spade\n",
       "0    2.0      3.0   2.0    1.0  8.0     0.25   0.227273    0.25  0.272727\n",
       "1    0.0      0.0   0.0    0.0  0.0     0.00   0.000000    0.00  0.000000\n",
       "2    0.0      0.0   0.0    0.0  0.0     0.00   0.000000    0.00  0.000000\n",
       "3    0.0      0.0   0.0    0.0  0.0     0.00   0.000000    0.00  0.000000\n",
       "4    0.0      0.0   0.0    0.0  0.0     0.00   0.000000    0.00  0.000000"
      ]
     },
     "execution_count": 3,
     "metadata": {},
     "output_type": "execute_result"
    }
   ],
   "source": [
    "initialize_df(df)\n",
    "df.head()"
   ]
  },
  {
   "cell_type": "markdown",
   "id": "4d080d05",
   "metadata": {},
   "source": [
    "### Update values"
   ]
  },
  {
   "cell_type": "code",
   "execution_count": 4,
   "id": "26f63545",
   "metadata": {
    "ExecuteTime": {
     "end_time": "2022-03-21T09:36:48.153253Z",
     "start_time": "2022-03-21T09:36:30.364612Z"
    }
   },
   "outputs": [
    {
     "name": "stdout",
     "output_type": "stream",
     "text": [
      "# of revealed Heart:  1\n",
      "# of revealed Diamond:  0\n",
      "# of revealed Club:  0\n",
      "# of revealed Spade:  0\n",
      "Heart        3.000000\n",
      "Diamond      3.000000\n",
      "Club         2.000000\n",
      "Spade        1.000000\n",
      "Sum          9.000000\n",
      "P-Heart      0.232558\n",
      "P-Diamond    0.232558\n",
      "P-Club       0.255814\n",
      "P-spade      0.279070\n",
      "Name: 1, dtype: float64\n",
      "# of revealed Heart:  0\n",
      "# of revealed Diamond:  1\n",
      "# of revealed Club:  0\n",
      "# of revealed Spade:  0\n",
      "Heart         3.000000\n",
      "Diamond       4.000000\n",
      "Club          2.000000\n",
      "Spade         1.000000\n",
      "Sum          10.000000\n",
      "P-Heart       0.238095\n",
      "P-Diamond     0.214286\n",
      "P-Club        0.261905\n",
      "P-spade       0.285714\n",
      "Name: 2, dtype: float64\n",
      "# of revealed Heart:  0\n",
      "# of revealed Diamond:  1\n",
      "# of revealed Club:  0\n",
      "# of revealed Spade:  0\n",
      "Heart         3.000000\n",
      "Diamond       5.000000\n",
      "Club          2.000000\n",
      "Spade         1.000000\n",
      "Sum          11.000000\n",
      "P-Heart       0.243902\n",
      "P-Diamond     0.195122\n",
      "P-Club        0.268293\n",
      "P-spade       0.292683\n",
      "Name: 3, dtype: float64\n",
      "# of revealed Heart:    \n"
     ]
    },
    {
     "ename": "ValueError",
     "evalue": "invalid literal for int() with base 10: '  '",
     "output_type": "error",
     "traceback": [
      "\u001b[1;31m---------------------------------------------------------------------------\u001b[0m",
      "\u001b[1;31mValueError\u001b[0m                                Traceback (most recent call last)",
      "\u001b[1;32m~\\AppData\\Local\\Temp/ipykernel_25484/3238345072.py\u001b[0m in \u001b[0;36m<module>\u001b[1;34m\u001b[0m\n\u001b[0;32m      1\u001b[0m \u001b[1;32mfor\u001b[0m \u001b[0mk\u001b[0m \u001b[1;32min\u001b[0m \u001b[0mrange\u001b[0m\u001b[1;33m(\u001b[0m\u001b[1;36m35\u001b[0m\u001b[1;33m)\u001b[0m\u001b[1;33m:\u001b[0m\u001b[1;33m\u001b[0m\u001b[1;33m\u001b[0m\u001b[0m\n\u001b[1;32m----> 2\u001b[1;33m     \u001b[0mupdate_df\u001b[0m\u001b[1;33m(\u001b[0m\u001b[0mdf\u001b[0m\u001b[1;33m)\u001b[0m\u001b[1;33m\u001b[0m\u001b[1;33m\u001b[0m\u001b[0m\n\u001b[0m\u001b[0;32m      3\u001b[0m     \u001b[0mprint\u001b[0m\u001b[1;33m(\u001b[0m\u001b[0mdf\u001b[0m\u001b[1;33m.\u001b[0m\u001b[0miloc\u001b[0m\u001b[1;33m[\u001b[0m\u001b[0mindex\u001b[0m\u001b[1;33m-\u001b[0m\u001b[1;36m1\u001b[0m\u001b[1;33m]\u001b[0m\u001b[1;33m)\u001b[0m\u001b[1;33m\u001b[0m\u001b[1;33m\u001b[0m\u001b[0m\n",
      "\u001b[1;32m~\\AppData\\Local\\Temp/ipykernel_25484/4188720803.py\u001b[0m in \u001b[0;36mupdate_df\u001b[1;34m(df)\u001b[0m\n\u001b[0;32m     17\u001b[0m     \u001b[1;32mglobal\u001b[0m \u001b[0mindex\u001b[0m\u001b[1;33m\u001b[0m\u001b[1;33m\u001b[0m\u001b[0m\n\u001b[0;32m     18\u001b[0m     \u001b[1;32mfor\u001b[0m \u001b[0mi\u001b[0m \u001b[1;32min\u001b[0m \u001b[0mrange\u001b[0m\u001b[1;33m(\u001b[0m\u001b[1;36m4\u001b[0m\u001b[1;33m)\u001b[0m\u001b[1;33m:\u001b[0m\u001b[1;33m\u001b[0m\u001b[1;33m\u001b[0m\u001b[0m\n\u001b[1;32m---> 19\u001b[1;33m         \u001b[0mdf\u001b[0m\u001b[1;33m.\u001b[0m\u001b[0miloc\u001b[0m\u001b[1;33m[\u001b[0m\u001b[0mindex\u001b[0m\u001b[1;33m,\u001b[0m\u001b[0mi\u001b[0m\u001b[1;33m]\u001b[0m \u001b[1;33m=\u001b[0m \u001b[0mint\u001b[0m\u001b[1;33m(\u001b[0m\u001b[0minput\u001b[0m\u001b[1;33m(\u001b[0m\u001b[1;34mf\"# of revealed {cols[i]}:  \"\u001b[0m\u001b[1;33m)\u001b[0m\u001b[1;33m)\u001b[0m \u001b[1;33m+\u001b[0m \u001b[0mdf\u001b[0m\u001b[1;33m.\u001b[0m\u001b[0miloc\u001b[0m\u001b[1;33m[\u001b[0m\u001b[0mindex\u001b[0m\u001b[1;33m-\u001b[0m\u001b[1;36m1\u001b[0m\u001b[1;33m,\u001b[0m\u001b[0mi\u001b[0m\u001b[1;33m]\u001b[0m\u001b[1;33m\u001b[0m\u001b[1;33m\u001b[0m\u001b[0m\n\u001b[0m\u001b[0;32m     20\u001b[0m \u001b[1;33m\u001b[0m\u001b[0m\n\u001b[0;32m     21\u001b[0m     \u001b[0mdf\u001b[0m\u001b[1;33m.\u001b[0m\u001b[0miloc\u001b[0m\u001b[1;33m[\u001b[0m\u001b[0mindex\u001b[0m\u001b[1;33m,\u001b[0m\u001b[1;36m4\u001b[0m\u001b[1;33m]\u001b[0m \u001b[1;33m=\u001b[0m \u001b[0msum\u001b[0m\u001b[1;33m(\u001b[0m\u001b[0mdf\u001b[0m\u001b[1;33m.\u001b[0m\u001b[0miloc\u001b[0m\u001b[1;33m[\u001b[0m\u001b[0mindex\u001b[0m\u001b[1;33m,\u001b[0m\u001b[1;33m[\u001b[0m\u001b[1;36m0\u001b[0m\u001b[1;33m,\u001b[0m\u001b[1;36m1\u001b[0m\u001b[1;33m,\u001b[0m\u001b[1;36m2\u001b[0m\u001b[1;33m,\u001b[0m\u001b[1;36m3\u001b[0m\u001b[1;33m]\u001b[0m\u001b[1;33m]\u001b[0m\u001b[1;33m)\u001b[0m\u001b[1;33m\u001b[0m\u001b[1;33m\u001b[0m\u001b[0m\n",
      "\u001b[1;31mValueError\u001b[0m: invalid literal for int() with base 10: '  '"
     ]
    }
   ],
   "source": [
    "for k in range(35):\n",
    "    update_df(df)\n",
    "    print(df.iloc[index-1])"
   ]
  },
  {
   "cell_type": "code",
   "execution_count": 6,
   "id": "4bad905d",
   "metadata": {
    "ExecuteTime": {
     "end_time": "2022-03-21T09:36:56.336733Z",
     "start_time": "2022-03-21T09:36:56.318734Z"
    }
   },
   "outputs": [
    {
     "data": {
      "text/html": [
       "<div>\n",
       "<style scoped>\n",
       "    .dataframe tbody tr th:only-of-type {\n",
       "        vertical-align: middle;\n",
       "    }\n",
       "\n",
       "    .dataframe tbody tr th {\n",
       "        vertical-align: top;\n",
       "    }\n",
       "\n",
       "    .dataframe thead th {\n",
       "        text-align: right;\n",
       "    }\n",
       "</style>\n",
       "<table border=\"1\" class=\"dataframe\">\n",
       "  <thead>\n",
       "    <tr style=\"text-align: right;\">\n",
       "      <th></th>\n",
       "      <th>Heart</th>\n",
       "      <th>Diamond</th>\n",
       "      <th>Club</th>\n",
       "      <th>Spade</th>\n",
       "      <th>Sum</th>\n",
       "      <th>P-Heart</th>\n",
       "      <th>P-Diamond</th>\n",
       "      <th>P-Club</th>\n",
       "      <th>P-spade</th>\n",
       "    </tr>\n",
       "  </thead>\n",
       "  <tbody>\n",
       "    <tr>\n",
       "      <th>0</th>\n",
       "      <td>2.0</td>\n",
       "      <td>3.0</td>\n",
       "      <td>2.0</td>\n",
       "      <td>1.0</td>\n",
       "      <td>8.0</td>\n",
       "      <td>0.250000</td>\n",
       "      <td>0.227273</td>\n",
       "      <td>0.250000</td>\n",
       "      <td>0.272727</td>\n",
       "    </tr>\n",
       "    <tr>\n",
       "      <th>1</th>\n",
       "      <td>3.0</td>\n",
       "      <td>3.0</td>\n",
       "      <td>2.0</td>\n",
       "      <td>1.0</td>\n",
       "      <td>9.0</td>\n",
       "      <td>0.232558</td>\n",
       "      <td>0.232558</td>\n",
       "      <td>0.255814</td>\n",
       "      <td>0.279070</td>\n",
       "    </tr>\n",
       "    <tr>\n",
       "      <th>2</th>\n",
       "      <td>3.0</td>\n",
       "      <td>4.0</td>\n",
       "      <td>2.0</td>\n",
       "      <td>1.0</td>\n",
       "      <td>10.0</td>\n",
       "      <td>0.238095</td>\n",
       "      <td>0.214286</td>\n",
       "      <td>0.261905</td>\n",
       "      <td>0.285714</td>\n",
       "    </tr>\n",
       "    <tr>\n",
       "      <th>3</th>\n",
       "      <td>3.0</td>\n",
       "      <td>5.0</td>\n",
       "      <td>2.0</td>\n",
       "      <td>1.0</td>\n",
       "      <td>11.0</td>\n",
       "      <td>0.243902</td>\n",
       "      <td>0.195122</td>\n",
       "      <td>0.268293</td>\n",
       "      <td>0.292683</td>\n",
       "    </tr>\n",
       "    <tr>\n",
       "      <th>4</th>\n",
       "      <td>0.0</td>\n",
       "      <td>0.0</td>\n",
       "      <td>0.0</td>\n",
       "      <td>0.0</td>\n",
       "      <td>0.0</td>\n",
       "      <td>0.000000</td>\n",
       "      <td>0.000000</td>\n",
       "      <td>0.000000</td>\n",
       "      <td>0.000000</td>\n",
       "    </tr>\n",
       "  </tbody>\n",
       "</table>\n",
       "</div>"
      ],
      "text/plain": [
       "   Heart  Diamond  Club  Spade   Sum   P-Heart  P-Diamond    P-Club   P-spade\n",
       "0    2.0      3.0   2.0    1.0   8.0  0.250000   0.227273  0.250000  0.272727\n",
       "1    3.0      3.0   2.0    1.0   9.0  0.232558   0.232558  0.255814  0.279070\n",
       "2    3.0      4.0   2.0    1.0  10.0  0.238095   0.214286  0.261905  0.285714\n",
       "3    3.0      5.0   2.0    1.0  11.0  0.243902   0.195122  0.268293  0.292683\n",
       "4    0.0      0.0   0.0    0.0   0.0  0.000000   0.000000  0.000000  0.000000"
      ]
     },
     "execution_count": 6,
     "metadata": {},
     "output_type": "execute_result"
    }
   ],
   "source": [
    "df.head()"
   ]
  },
  {
   "cell_type": "code",
   "execution_count": null,
   "id": "63db3983",
   "metadata": {},
   "outputs": [],
   "source": []
  }
 ],
 "metadata": {
  "kernelspec": {
   "display_name": "Python 3 (ipykernel)",
   "language": "python",
   "name": "python3"
  },
  "language_info": {
   "codemirror_mode": {
    "name": "ipython",
    "version": 3
   },
   "file_extension": ".py",
   "mimetype": "text/x-python",
   "name": "python",
   "nbconvert_exporter": "python",
   "pygments_lexer": "ipython3",
   "version": "3.8.12"
  }
 },
 "nbformat": 4,
 "nbformat_minor": 5
}
